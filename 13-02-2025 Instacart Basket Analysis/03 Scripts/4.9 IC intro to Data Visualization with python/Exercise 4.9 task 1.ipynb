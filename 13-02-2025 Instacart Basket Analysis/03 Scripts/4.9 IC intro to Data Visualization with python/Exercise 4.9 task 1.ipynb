{
 "cells": [
  {
   "cell_type": "markdown",
   "id": "e9bb0a4f-1015-453c-9b7f-e9715a374fd9",
   "metadata": {},
   "source": [
    "# TASK 1"
   ]
  },
  {
   "cell_type": "markdown",
   "id": "b7767fa5-b002-4b95-a2ff-cd8ed802fd00",
   "metadata": {
    "jp-MarkdownHeadingCollapsed": true
   },
   "source": [
    "# 01 Import Analysis Libraries"
   ]
  },
  {
   "cell_type": "code",
   "execution_count": 3,
   "id": "f98ef369-2b02-496d-a163-21cc3aba48c6",
   "metadata": {},
   "outputs": [],
   "source": [
    "import pandas as pd\n",
    "import numpy as np\n",
    "import os"
   ]
  },
  {
   "cell_type": "markdown",
   "id": "1e212d49-ee68-4774-94d8-2b8e089f294a",
   "metadata": {},
   "source": [
    "# 02 Import DataFrames"
   ]
  },
  {
   "cell_type": "markdown",
   "id": "be2a89b0-398b-402d-983d-923c107b7f86",
   "metadata": {},
   "source": [
    "## Path Creation"
   ]
  },
  {
   "cell_type": "code",
   "execution_count": 6,
   "id": "e85edc45-6bb1-4756-a168-1c37e7d9ba22",
   "metadata": {},
   "outputs": [],
   "source": [
    "#Creating path \n",
    "path = r'/Users/Andreas/Desktop/13-02-2025 Instacart Basket Analysis/02 Data'"
   ]
  },
  {
   "cell_type": "code",
   "execution_count": 7,
   "id": "dce08b24-4639-4c9a-a506-054b844e346a",
   "metadata": {},
   "outputs": [
    {
     "data": {
      "text/plain": [
       "'/Users/Andreas/Desktop/13-02-2025 Instacart Basket Analysis/02 Data'"
      ]
     },
     "execution_count": 7,
     "metadata": {},
     "output_type": "execute_result"
    }
   ],
   "source": [
    "#Checkking output\n",
    "path"
   ]
  },
  {
   "cell_type": "markdown",
   "id": "67f11367-e1e9-4cb5-bfc7-7423c2f0d71c",
   "metadata": {},
   "source": [
    "## Import customer.csv"
   ]
  },
  {
   "cell_type": "code",
   "execution_count": 9,
   "id": "00dc7a55-6722-490f-bae8-aee293939bd7",
   "metadata": {},
   "outputs": [],
   "source": [
    "#Creating dataframe df_cust from customers.csv\n",
    "df_cust = pd.read_csv(os.path.join(path, 'Original Data', 'customers.csv'))"
   ]
  },
  {
   "cell_type": "code",
   "execution_count": 10,
   "id": "95889bd9-bb59-450c-933e-614f0a9288cf",
   "metadata": {},
   "outputs": [],
   "source": [
    "#Creating dataframe df_o_p_m from orders_products_merge.pkl\n",
    "df_o_p_m = pd.read_pickle(os.path.join(path, 'Prepared Data', 'orders_products_merged', 'orders_products_merge3.pkl'))"
   ]
  },
  {
   "cell_type": "code",
   "execution_count": 11,
   "id": "90f97c43-02e2-4326-8a0f-3eb1241660bb",
   "metadata": {},
   "outputs": [
    {
     "data": {
      "text/html": [
       "<div>\n",
       "<style scoped>\n",
       "    .dataframe tbody tr th:only-of-type {\n",
       "        vertical-align: middle;\n",
       "    }\n",
       "\n",
       "    .dataframe tbody tr th {\n",
       "        vertical-align: top;\n",
       "    }\n",
       "\n",
       "    .dataframe thead th {\n",
       "        text-align: right;\n",
       "    }\n",
       "</style>\n",
       "<table border=\"1\" class=\"dataframe\">\n",
       "  <thead>\n",
       "    <tr style=\"text-align: right;\">\n",
       "      <th></th>\n",
       "      <th>user_id</th>\n",
       "      <th>First Name</th>\n",
       "      <th>Surnam</th>\n",
       "      <th>Gender</th>\n",
       "      <th>STATE</th>\n",
       "      <th>Age</th>\n",
       "      <th>date_joined</th>\n",
       "      <th>n_dependants</th>\n",
       "      <th>fam_status</th>\n",
       "      <th>income</th>\n",
       "    </tr>\n",
       "  </thead>\n",
       "  <tbody>\n",
       "    <tr>\n",
       "      <th>0</th>\n",
       "      <td>26711</td>\n",
       "      <td>Deborah</td>\n",
       "      <td>Esquivel</td>\n",
       "      <td>Female</td>\n",
       "      <td>Missouri</td>\n",
       "      <td>48</td>\n",
       "      <td>1/1/2017</td>\n",
       "      <td>3</td>\n",
       "      <td>married</td>\n",
       "      <td>165665</td>\n",
       "    </tr>\n",
       "    <tr>\n",
       "      <th>1</th>\n",
       "      <td>33890</td>\n",
       "      <td>Patricia</td>\n",
       "      <td>Hart</td>\n",
       "      <td>Female</td>\n",
       "      <td>New Mexico</td>\n",
       "      <td>36</td>\n",
       "      <td>1/1/2017</td>\n",
       "      <td>0</td>\n",
       "      <td>single</td>\n",
       "      <td>59285</td>\n",
       "    </tr>\n",
       "    <tr>\n",
       "      <th>2</th>\n",
       "      <td>65803</td>\n",
       "      <td>Kenneth</td>\n",
       "      <td>Farley</td>\n",
       "      <td>Male</td>\n",
       "      <td>Idaho</td>\n",
       "      <td>35</td>\n",
       "      <td>1/1/2017</td>\n",
       "      <td>2</td>\n",
       "      <td>married</td>\n",
       "      <td>99568</td>\n",
       "    </tr>\n",
       "    <tr>\n",
       "      <th>3</th>\n",
       "      <td>125935</td>\n",
       "      <td>Michelle</td>\n",
       "      <td>Hicks</td>\n",
       "      <td>Female</td>\n",
       "      <td>Iowa</td>\n",
       "      <td>40</td>\n",
       "      <td>1/1/2017</td>\n",
       "      <td>0</td>\n",
       "      <td>single</td>\n",
       "      <td>42049</td>\n",
       "    </tr>\n",
       "    <tr>\n",
       "      <th>4</th>\n",
       "      <td>130797</td>\n",
       "      <td>Ann</td>\n",
       "      <td>Gilmore</td>\n",
       "      <td>Female</td>\n",
       "      <td>Maryland</td>\n",
       "      <td>26</td>\n",
       "      <td>1/1/2017</td>\n",
       "      <td>1</td>\n",
       "      <td>married</td>\n",
       "      <td>40374</td>\n",
       "    </tr>\n",
       "  </tbody>\n",
       "</table>\n",
       "</div>"
      ],
      "text/plain": [
       "   user_id First Name    Surnam  Gender       STATE  Age date_joined  \\\n",
       "0    26711    Deborah  Esquivel  Female    Missouri   48    1/1/2017   \n",
       "1    33890   Patricia      Hart  Female  New Mexico   36    1/1/2017   \n",
       "2    65803    Kenneth    Farley    Male       Idaho   35    1/1/2017   \n",
       "3   125935   Michelle     Hicks  Female        Iowa   40    1/1/2017   \n",
       "4   130797        Ann   Gilmore  Female    Maryland   26    1/1/2017   \n",
       "\n",
       "   n_dependants fam_status  income  \n",
       "0             3    married  165665  \n",
       "1             0     single   59285  \n",
       "2             2    married   99568  \n",
       "3             0     single   42049  \n",
       "4             1    married   40374  "
      ]
     },
     "execution_count": 11,
     "metadata": {},
     "output_type": "execute_result"
    }
   ],
   "source": [
    "#Checking output\n",
    "df_cust.head()"
   ]
  },
  {
   "cell_type": "markdown",
   "id": "f3c83deb-c036-406e-b958-e27b64ffcef9",
   "metadata": {},
   "source": [
    "# 03 Data inspection"
   ]
  },
  {
   "cell_type": "markdown",
   "id": "d3943b87-7f83-4c24-a935-03a1b7165b91",
   "metadata": {},
   "source": [
    "## Data shape"
   ]
  },
  {
   "cell_type": "code",
   "execution_count": 14,
   "id": "e5c83f1d-516b-4b7d-95f6-3cfea04450a5",
   "metadata": {},
   "outputs": [
    {
     "data": {
      "text/plain": [
       "(32404859, 24)"
      ]
     },
     "execution_count": 14,
     "metadata": {},
     "output_type": "execute_result"
    }
   ],
   "source": [
    "df_o_p_m.shape"
   ]
  },
  {
   "cell_type": "code",
   "execution_count": 15,
   "id": "5086b376-7858-461b-8787-f6e8eca27569",
   "metadata": {},
   "outputs": [
    {
     "data": {
      "text/plain": [
       "(206209, 10)"
      ]
     },
     "execution_count": 15,
     "metadata": {},
     "output_type": "execute_result"
    }
   ],
   "source": [
    "df_cust.shape"
   ]
  },
  {
   "cell_type": "markdown",
   "id": "b2e1ad73-aed7-4538-8bed-e5aa37cb7977",
   "metadata": {},
   "source": [
    "## Data Description"
   ]
  },
  {
   "cell_type": "code",
   "execution_count": 17,
   "id": "e0031219-3603-475e-9b69-497ce9c378c5",
   "metadata": {},
   "outputs": [
    {
     "data": {
      "text/html": [
       "<div>\n",
       "<style scoped>\n",
       "    .dataframe tbody tr th:only-of-type {\n",
       "        vertical-align: middle;\n",
       "    }\n",
       "\n",
       "    .dataframe tbody tr th {\n",
       "        vertical-align: top;\n",
       "    }\n",
       "\n",
       "    .dataframe thead th {\n",
       "        text-align: right;\n",
       "    }\n",
       "</style>\n",
       "<table border=\"1\" class=\"dataframe\">\n",
       "  <thead>\n",
       "    <tr style=\"text-align: right;\">\n",
       "      <th></th>\n",
       "      <th>user_id</th>\n",
       "      <th>Age</th>\n",
       "      <th>n_dependants</th>\n",
       "      <th>income</th>\n",
       "    </tr>\n",
       "  </thead>\n",
       "  <tbody>\n",
       "    <tr>\n",
       "      <th>count</th>\n",
       "      <td>206209.000000</td>\n",
       "      <td>206209.000000</td>\n",
       "      <td>206209.000000</td>\n",
       "      <td>206209.000000</td>\n",
       "    </tr>\n",
       "    <tr>\n",
       "      <th>mean</th>\n",
       "      <td>103105.000000</td>\n",
       "      <td>49.501646</td>\n",
       "      <td>1.499823</td>\n",
       "      <td>94632.852548</td>\n",
       "    </tr>\n",
       "    <tr>\n",
       "      <th>std</th>\n",
       "      <td>59527.555167</td>\n",
       "      <td>18.480962</td>\n",
       "      <td>1.118433</td>\n",
       "      <td>42473.786988</td>\n",
       "    </tr>\n",
       "    <tr>\n",
       "      <th>min</th>\n",
       "      <td>1.000000</td>\n",
       "      <td>18.000000</td>\n",
       "      <td>0.000000</td>\n",
       "      <td>25903.000000</td>\n",
       "    </tr>\n",
       "    <tr>\n",
       "      <th>25%</th>\n",
       "      <td>51553.000000</td>\n",
       "      <td>33.000000</td>\n",
       "      <td>0.000000</td>\n",
       "      <td>59874.000000</td>\n",
       "    </tr>\n",
       "    <tr>\n",
       "      <th>50%</th>\n",
       "      <td>103105.000000</td>\n",
       "      <td>49.000000</td>\n",
       "      <td>1.000000</td>\n",
       "      <td>93547.000000</td>\n",
       "    </tr>\n",
       "    <tr>\n",
       "      <th>75%</th>\n",
       "      <td>154657.000000</td>\n",
       "      <td>66.000000</td>\n",
       "      <td>3.000000</td>\n",
       "      <td>124244.000000</td>\n",
       "    </tr>\n",
       "    <tr>\n",
       "      <th>max</th>\n",
       "      <td>206209.000000</td>\n",
       "      <td>81.000000</td>\n",
       "      <td>3.000000</td>\n",
       "      <td>593901.000000</td>\n",
       "    </tr>\n",
       "  </tbody>\n",
       "</table>\n",
       "</div>"
      ],
      "text/plain": [
       "             user_id            Age   n_dependants         income\n",
       "count  206209.000000  206209.000000  206209.000000  206209.000000\n",
       "mean   103105.000000      49.501646       1.499823   94632.852548\n",
       "std     59527.555167      18.480962       1.118433   42473.786988\n",
       "min         1.000000      18.000000       0.000000   25903.000000\n",
       "25%     51553.000000      33.000000       0.000000   59874.000000\n",
       "50%    103105.000000      49.000000       1.000000   93547.000000\n",
       "75%    154657.000000      66.000000       3.000000  124244.000000\n",
       "max    206209.000000      81.000000       3.000000  593901.000000"
      ]
     },
     "execution_count": 17,
     "metadata": {},
     "output_type": "execute_result"
    }
   ],
   "source": [
    "df_cust.describe()"
   ]
  },
  {
   "cell_type": "markdown",
   "id": "20409e1b-8d29-4a1e-8e9e-a64c084a7461",
   "metadata": {},
   "source": [
    "## Data type check"
   ]
  },
  {
   "cell_type": "code",
   "execution_count": 19,
   "id": "289a2d8f-2af1-4ff9-abb2-a6942b68a243",
   "metadata": {},
   "outputs": [
    {
     "data": {
      "text/plain": [
       "user_id          int64\n",
       "First Name      object\n",
       "Surnam          object\n",
       "Gender          object\n",
       "STATE           object\n",
       "Age              int64\n",
       "date_joined     object\n",
       "n_dependants     int64\n",
       "fam_status      object\n",
       "income           int64\n",
       "dtype: object"
      ]
     },
     "execution_count": 19,
     "metadata": {},
     "output_type": "execute_result"
    }
   ],
   "source": [
    "#Checking Data Types of df_cust\n",
    "df_cust.dtypes"
   ]
  },
  {
   "cell_type": "code",
   "execution_count": 20,
   "id": "4c3dff1e-f83e-4877-ad8e-34ba9ce92c50",
   "metadata": {},
   "outputs": [],
   "source": [
    "#changing data size to accomodate ram nd make user_id data type match\n",
    "df_cust['user_id'] = df_cust['user_id'].astype('str')\n",
    "df_cust['Age'] = df_cust['Age'].astype('int8')\n",
    "df_cust['n_dependants'] = df_cust['n_dependants'].astype('int8')\n",
    "df_cust['income'] = df_cust['income'].astype('int8')"
   ]
  },
  {
   "cell_type": "code",
   "execution_count": 21,
   "id": "474ed115-1264-44b5-a5e3-6ea198770cf8",
   "metadata": {},
   "outputs": [
    {
     "data": {
      "text/plain": [
       "product_id                  int32\n",
       "product_name               object\n",
       "aisle_id                    int16\n",
       "department_id               int16\n",
       "prices                    float64\n",
       "order_id                    int32\n",
       "user_id                     int32\n",
       "order_number                int16\n",
       "orders_day_of_week          int16\n",
       "order_hour_of_day           int16\n",
       "days_without_ordering     float16\n",
       "add_to_cart_order           int16\n",
       "reordered                   int16\n",
       "_merge                   category\n",
       "price_label                object\n",
       "busiest_day                object\n",
       "busiest_days               object\n",
       "busiest_period_of_day      object\n",
       "max_order                   int16\n",
       "loyalty_flag               object\n",
       "user_mean_price           float64\n",
       "Spender_habit              object\n",
       "median_days_no_order      float16\n",
       "Customer Type              object\n",
       "dtype: object"
      ]
     },
     "execution_count": 21,
     "metadata": {},
     "output_type": "execute_result"
    }
   ],
   "source": [
    "df_o_p_m.dtypes"
   ]
  },
  {
   "cell_type": "markdown",
   "id": "90615eea-aaa8-4705-b5a6-b54a458cb48b",
   "metadata": {},
   "source": [
    "# 04 Wrangling Data"
   ]
  },
  {
   "cell_type": "markdown",
   "id": "d1b9efd1-ab6d-4112-85ce-852dafbcbe28",
   "metadata": {},
   "source": [
    "## Renaming Columns"
   ]
  },
  {
   "cell_type": "code",
   "execution_count": 24,
   "id": "6d54c0ad-39e7-40f2-8f54-55063ca0bbf0",
   "metadata": {},
   "outputs": [],
   "source": [
    "#Changing Column names for uniformity in df_cust {old name : new name}\n",
    "\n",
    "df_cust.rename(columns = {'First Name' : 'first_name'}, inplace = True)\n",
    "df_cust.rename(columns = {'Surnam' : 'surname'}, inplace = True)\n",
    "df_cust.rename(columns = {'Gender' : 'gender'}, inplace = True)\n",
    "df_cust.rename(columns = {'Age' : 'age'}, inplace = True)\n",
    "df_cust.rename(columns = {'n_dependants' : 'number_of_dependants'}, inplace = True)\n",
    "df_cust.rename(columns = {'fam_status' : 'marital_status'}, inplace = True)\n",
    "df_cust.rename(columns = {'STATE' : 'state'}, inplace = True)"
   ]
  },
  {
   "cell_type": "code",
   "execution_count": 25,
   "id": "a1226ae2-a4a5-4e77-80c8-372dc276b967",
   "metadata": {},
   "outputs": [
    {
     "data": {
      "text/html": [
       "<div>\n",
       "<style scoped>\n",
       "    .dataframe tbody tr th:only-of-type {\n",
       "        vertical-align: middle;\n",
       "    }\n",
       "\n",
       "    .dataframe tbody tr th {\n",
       "        vertical-align: top;\n",
       "    }\n",
       "\n",
       "    .dataframe thead th {\n",
       "        text-align: right;\n",
       "    }\n",
       "</style>\n",
       "<table border=\"1\" class=\"dataframe\">\n",
       "  <thead>\n",
       "    <tr style=\"text-align: right;\">\n",
       "      <th></th>\n",
       "      <th>user_id</th>\n",
       "      <th>first_name</th>\n",
       "      <th>surname</th>\n",
       "      <th>gender</th>\n",
       "      <th>state</th>\n",
       "      <th>age</th>\n",
       "      <th>date_joined</th>\n",
       "      <th>number_of_dependants</th>\n",
       "      <th>marital_status</th>\n",
       "      <th>income</th>\n",
       "    </tr>\n",
       "  </thead>\n",
       "  <tbody>\n",
       "    <tr>\n",
       "      <th>0</th>\n",
       "      <td>26711</td>\n",
       "      <td>Deborah</td>\n",
       "      <td>Esquivel</td>\n",
       "      <td>Female</td>\n",
       "      <td>Missouri</td>\n",
       "      <td>48</td>\n",
       "      <td>1/1/2017</td>\n",
       "      <td>3</td>\n",
       "      <td>married</td>\n",
       "      <td>33</td>\n",
       "    </tr>\n",
       "  </tbody>\n",
       "</table>\n",
       "</div>"
      ],
      "text/plain": [
       "  user_id first_name   surname  gender     state  age date_joined  \\\n",
       "0   26711    Deborah  Esquivel  Female  Missouri   48    1/1/2017   \n",
       "\n",
       "   number_of_dependants marital_status  income  \n",
       "0                     3        married      33  "
      ]
     },
     "execution_count": 25,
     "metadata": {},
     "output_type": "execute_result"
    }
   ],
   "source": [
    "#checking name change was successful for df_cust\n",
    "df_cust.head(1)"
   ]
  },
  {
   "cell_type": "code",
   "execution_count": 26,
   "id": "a3633736-6387-43ed-85a1-0ab281aeaa18",
   "metadata": {},
   "outputs": [],
   "source": [
    "#Changing Column names for uniformity in df_o_p_m {old name : new name}\n",
    "df_o_p_m.rename(columns = {'Spender habit' : 'spender_habit'}, inplace = True)\n",
    "df_o_p_m.rename(columns = {'Customer Type' : 'customer_type'}, inplace = True)"
   ]
  },
  {
   "cell_type": "code",
   "execution_count": 27,
   "id": "c088c16a-db3e-447d-a0a0-0ea8e7d3ba5a",
   "metadata": {},
   "outputs": [
    {
     "data": {
      "text/html": [
       "<div>\n",
       "<style scoped>\n",
       "    .dataframe tbody tr th:only-of-type {\n",
       "        vertical-align: middle;\n",
       "    }\n",
       "\n",
       "    .dataframe tbody tr th {\n",
       "        vertical-align: top;\n",
       "    }\n",
       "\n",
       "    .dataframe thead th {\n",
       "        text-align: right;\n",
       "    }\n",
       "</style>\n",
       "<table border=\"1\" class=\"dataframe\">\n",
       "  <thead>\n",
       "    <tr style=\"text-align: right;\">\n",
       "      <th></th>\n",
       "      <th>product_id</th>\n",
       "      <th>product_name</th>\n",
       "      <th>aisle_id</th>\n",
       "      <th>department_id</th>\n",
       "      <th>prices</th>\n",
       "      <th>order_id</th>\n",
       "      <th>user_id</th>\n",
       "      <th>order_number</th>\n",
       "      <th>orders_day_of_week</th>\n",
       "      <th>order_hour_of_day</th>\n",
       "      <th>...</th>\n",
       "      <th>price_label</th>\n",
       "      <th>busiest_day</th>\n",
       "      <th>busiest_days</th>\n",
       "      <th>busiest_period_of_day</th>\n",
       "      <th>max_order</th>\n",
       "      <th>loyalty_flag</th>\n",
       "      <th>user_mean_price</th>\n",
       "      <th>Spender_habit</th>\n",
       "      <th>median_days_no_order</th>\n",
       "      <th>customer_type</th>\n",
       "    </tr>\n",
       "  </thead>\n",
       "  <tbody>\n",
       "    <tr>\n",
       "      <th>0</th>\n",
       "      <td>1</td>\n",
       "      <td>Chocolate Sandwich Cookies</td>\n",
       "      <td>61</td>\n",
       "      <td>19</td>\n",
       "      <td>5.800781</td>\n",
       "      <td>3139998</td>\n",
       "      <td>138</td>\n",
       "      <td>28</td>\n",
       "      <td>6</td>\n",
       "      <td>11</td>\n",
       "      <td>...</td>\n",
       "      <td>Mid-range product</td>\n",
       "      <td>Regularly busy</td>\n",
       "      <td>Regularly busy days</td>\n",
       "      <td>Most Orders</td>\n",
       "      <td>32</td>\n",
       "      <td>Regular Customer</td>\n",
       "      <td>6.936029</td>\n",
       "      <td>Low Spender</td>\n",
       "      <td>8.0</td>\n",
       "      <td>Frequent Customer</td>\n",
       "    </tr>\n",
       "  </tbody>\n",
       "</table>\n",
       "<p>1 rows × 24 columns</p>\n",
       "</div>"
      ],
      "text/plain": [
       "   product_id                product_name  aisle_id  department_id    prices  \\\n",
       "0           1  Chocolate Sandwich Cookies        61             19  5.800781   \n",
       "\n",
       "   order_id  user_id  order_number  orders_day_of_week  order_hour_of_day  \\\n",
       "0   3139998      138            28                   6                 11   \n",
       "\n",
       "   ...        price_label     busiest_day         busiest_days  \\\n",
       "0  ...  Mid-range product  Regularly busy  Regularly busy days   \n",
       "\n",
       "  busiest_period_of_day max_order      loyalty_flag user_mean_price  \\\n",
       "0           Most Orders        32  Regular Customer        6.936029   \n",
       "\n",
       "  Spender_habit  median_days_no_order      customer_type  \n",
       "0   Low Spender                   8.0  Frequent Customer  \n",
       "\n",
       "[1 rows x 24 columns]"
      ]
     },
     "execution_count": 27,
     "metadata": {},
     "output_type": "execute_result"
    }
   ],
   "source": [
    "#checking name change was successful for df_o_p_m\n",
    "df_o_p_m.head(1)"
   ]
  },
  {
   "cell_type": "markdown",
   "id": "eb484725-33bb-4ac6-8e1b-7c5ee9cdf352",
   "metadata": {},
   "source": [
    "## Removing Columns"
   ]
  },
  {
   "cell_type": "markdown",
   "id": "02f17ca0-02db-4f10-9286-d779bd30830b",
   "metadata": {},
   "source": [
    "df_cust reason for not removing columns\n",
    "\n",
    "In df_cust I will not be removing any of the columns they are helpful for extra analyses outside of what we need for answering Key Questions asked by client that may still benefit them. Thus I have decided to keep them."
   ]
  },
  {
   "cell_type": "code",
   "execution_count": 30,
   "id": "8004d54e-169b-4f57-96af-966ac1a209fc",
   "metadata": {},
   "outputs": [],
   "source": [
    "# removing columns from df_o_p_m that are unnecessary\n",
    "\n",
    "df_o_p_m = df_o_p_m.drop(columns = ['_merge' , 'busiest_day'])"
   ]
  },
  {
   "cell_type": "code",
   "execution_count": 31,
   "id": "13d71f3b-4e20-4184-8872-99dface8c73f",
   "metadata": {},
   "outputs": [
    {
     "data": {
      "text/plain": [
       "(32404859, 22)"
      ]
     },
     "execution_count": 31,
     "metadata": {},
     "output_type": "execute_result"
    }
   ],
   "source": [
    "# checking for removal of the columns a total of 22 should show on columns as initial shape check was 24\n",
    "df_o_p_m.shape"
   ]
  },
  {
   "cell_type": "markdown",
   "id": "d59ffa37-ec8e-4d46-b17f-8545fd3475fe",
   "metadata": {},
   "source": [
    "## Duplicates Check"
   ]
  },
  {
   "cell_type": "code",
   "execution_count": 33,
   "id": "6693dc94-543e-422f-ae56-e9d69af51c06",
   "metadata": {},
   "outputs": [],
   "source": [
    "# creating new dataframe for duplicates in df_cust\n",
    "df_c_dups = df_cust.duplicated()"
   ]
  },
  {
   "cell_type": "code",
   "execution_count": 34,
   "id": "a8accabb-19e5-49f9-922c-4d4da87438a8",
   "metadata": {},
   "outputs": [
    {
     "data": {
      "text/plain": [
       "False    206209\n",
       "Name: count, dtype: int64"
      ]
     },
     "execution_count": 34,
     "metadata": {},
     "output_type": "execute_result"
    }
   ],
   "source": [
    "# using new dataframe to count duplpicates \n",
    "df_c_dups.value_counts(dropna=False)"
   ]
  },
  {
   "cell_type": "markdown",
   "id": "92e5bc36-0d57-498a-a179-e466008175a1",
   "metadata": {},
   "source": [
    "## Mixed Data Type check"
   ]
  },
  {
   "cell_type": "code",
   "execution_count": 36,
   "id": "32b520d9-d444-4a70-9131-8d2d9389eb41",
   "metadata": {},
   "outputs": [
    {
     "name": "stdout",
     "output_type": "stream",
     "text": [
      "first_name\n"
     ]
    }
   ],
   "source": [
    "for col in df_cust.columns.tolist():\n",
    "  weird = (df_cust[[col]].map(type) != df_cust[[col]].iloc[0].apply(type)).any(axis = 1)\n",
    "  if len (df_cust[weird]) > 0:\n",
    "    print (col)"
   ]
  },
  {
   "cell_type": "code",
   "execution_count": 37,
   "id": "eb45609a-87fc-4728-97ff-2583a3ea0632",
   "metadata": {},
   "outputs": [],
   "source": [
    "# Changing first_name into 'str' as it is a mixed-data-type\n",
    "df_cust['first_name'] = df_cust['first_name'].astype('str')"
   ]
  },
  {
   "cell_type": "code",
   "execution_count": null,
   "id": "938cd4db-9632-46a4-80e7-ce4c38c06144",
   "metadata": {},
   "outputs": [],
   "source": []
  },
  {
   "cell_type": "code",
   "execution_count": null,
   "id": "1a5079aa-04c9-4e88-b889-fa6f353ece56",
   "metadata": {},
   "outputs": [],
   "source": []
  },
  {
   "cell_type": "code",
   "execution_count": null,
   "id": "982f577c-a55c-4df2-aceb-7910ffdecdaf",
   "metadata": {},
   "outputs": [],
   "source": []
  },
  {
   "cell_type": "code",
   "execution_count": 38,
   "id": "dc443185-169e-4929-91b8-96f3c4f7dca4",
   "metadata": {},
   "outputs": [],
   "source": [
    "# Changing user_id and order_id for df_o_p_m\n",
    "df_o_p_m['user_id'] = df_o_p_m['user_id'].astype('str')\n",
    "df_o_p_m['order_id'] = df_o_p_m['order_id'].astype('str')"
   ]
  },
  {
   "cell_type": "code",
   "execution_count": 39,
   "id": "d34dbc56-3ce4-4e87-88db-61711f7af0da",
   "metadata": {},
   "outputs": [
    {
     "data": {
      "text/plain": [
       "dtype('O')"
      ]
     },
     "execution_count": 39,
     "metadata": {},
     "output_type": "execute_result"
    }
   ],
   "source": [
    "# checking output\n",
    "df_cust['user_id'].dtypes"
   ]
  },
  {
   "cell_type": "code",
   "execution_count": 40,
   "id": "552818a0-7ac2-4641-affb-d8ca98f657de",
   "metadata": {},
   "outputs": [
    {
     "data": {
      "text/plain": [
       "dtype('O')"
      ]
     },
     "execution_count": 40,
     "metadata": {},
     "output_type": "execute_result"
    }
   ],
   "source": [
    "df_o_p_m['user_id'].dtypes"
   ]
  },
  {
   "cell_type": "code",
   "execution_count": null,
   "id": "795af5df-5048-41bd-a779-e0edfae28f6e",
   "metadata": {},
   "outputs": [],
   "source": []
  },
  {
   "cell_type": "code",
   "execution_count": 41,
   "id": "6db07701-9bdd-4659-a9cf-ee3951fa08aa",
   "metadata": {},
   "outputs": [
    {
     "data": {
      "text/plain": [
       "dtype('O')"
      ]
     },
     "execution_count": 41,
     "metadata": {},
     "output_type": "execute_result"
    }
   ],
   "source": [
    "df_o_p_m['order_id'].dtypes"
   ]
  },
  {
   "cell_type": "markdown",
   "id": "a71e813d-272d-4bf0-bed3-7625b525e4a0",
   "metadata": {},
   "source": [
    "## Null Value Check"
   ]
  },
  {
   "cell_type": "code",
   "execution_count": 43,
   "id": "5c74e386-62e1-465f-9edc-1c16f8633343",
   "metadata": {},
   "outputs": [
    {
     "data": {
      "text/plain": [
       "user_id                 0\n",
       "first_name              0\n",
       "surname                 0\n",
       "gender                  0\n",
       "state                   0\n",
       "age                     0\n",
       "date_joined             0\n",
       "number_of_dependants    0\n",
       "marital_status          0\n",
       "income                  0\n",
       "dtype: int64"
      ]
     },
     "execution_count": 43,
     "metadata": {},
     "output_type": "execute_result"
    }
   ],
   "source": [
    "df_cust.isnull().sum()"
   ]
  },
  {
   "cell_type": "markdown",
   "id": "a752e84c-7e6a-4d29-b1ed-1aa57b3baf90",
   "metadata": {},
   "source": [
    "# 05 Merging Data sets"
   ]
  },
  {
   "cell_type": "code",
   "execution_count": 45,
   "id": "17579c98-3693-49e7-bb52-93043ea45c03",
   "metadata": {},
   "outputs": [],
   "source": [
    "# creating new dataframe df_c_o_p_m by merging df_o_p_m and df_cust on user_id\n",
    "df_c_o_p_m = df_o_p_m.merge(df_cust, on = 'user_id', indicator = True)"
   ]
  },
  {
   "cell_type": "code",
   "execution_count": 46,
   "id": "7868feaa-9c12-4f5b-a119-600741c8139c",
   "metadata": {},
   "outputs": [
    {
     "data": {
      "text/html": [
       "<div>\n",
       "<style scoped>\n",
       "    .dataframe tbody tr th:only-of-type {\n",
       "        vertical-align: middle;\n",
       "    }\n",
       "\n",
       "    .dataframe tbody tr th {\n",
       "        vertical-align: top;\n",
       "    }\n",
       "\n",
       "    .dataframe thead th {\n",
       "        text-align: right;\n",
       "    }\n",
       "</style>\n",
       "<table border=\"1\" class=\"dataframe\">\n",
       "  <thead>\n",
       "    <tr style=\"text-align: right;\">\n",
       "      <th></th>\n",
       "      <th>product_id</th>\n",
       "      <th>product_name</th>\n",
       "      <th>aisle_id</th>\n",
       "      <th>department_id</th>\n",
       "      <th>prices</th>\n",
       "      <th>order_id</th>\n",
       "      <th>user_id</th>\n",
       "      <th>order_number</th>\n",
       "      <th>orders_day_of_week</th>\n",
       "      <th>order_hour_of_day</th>\n",
       "      <th>...</th>\n",
       "      <th>first_name</th>\n",
       "      <th>surname</th>\n",
       "      <th>gender</th>\n",
       "      <th>state</th>\n",
       "      <th>age</th>\n",
       "      <th>date_joined</th>\n",
       "      <th>number_of_dependants</th>\n",
       "      <th>marital_status</th>\n",
       "      <th>income</th>\n",
       "      <th>_merge</th>\n",
       "    </tr>\n",
       "  </thead>\n",
       "  <tbody>\n",
       "    <tr>\n",
       "      <th>0</th>\n",
       "      <td>1</td>\n",
       "      <td>Chocolate Sandwich Cookies</td>\n",
       "      <td>61</td>\n",
       "      <td>19</td>\n",
       "      <td>5.800781</td>\n",
       "      <td>3139998</td>\n",
       "      <td>138</td>\n",
       "      <td>28</td>\n",
       "      <td>6</td>\n",
       "      <td>11</td>\n",
       "      <td>...</td>\n",
       "      <td>Charles</td>\n",
       "      <td>Cox</td>\n",
       "      <td>Male</td>\n",
       "      <td>Minnesota</td>\n",
       "      <td>81</td>\n",
       "      <td>8/1/2019</td>\n",
       "      <td>1</td>\n",
       "      <td>married</td>\n",
       "      <td>-44</td>\n",
       "      <td>both</td>\n",
       "    </tr>\n",
       "    <tr>\n",
       "      <th>1</th>\n",
       "      <td>1</td>\n",
       "      <td>Chocolate Sandwich Cookies</td>\n",
       "      <td>61</td>\n",
       "      <td>19</td>\n",
       "      <td>5.800781</td>\n",
       "      <td>1977647</td>\n",
       "      <td>138</td>\n",
       "      <td>30</td>\n",
       "      <td>6</td>\n",
       "      <td>17</td>\n",
       "      <td>...</td>\n",
       "      <td>Charles</td>\n",
       "      <td>Cox</td>\n",
       "      <td>Male</td>\n",
       "      <td>Minnesota</td>\n",
       "      <td>81</td>\n",
       "      <td>8/1/2019</td>\n",
       "      <td>1</td>\n",
       "      <td>married</td>\n",
       "      <td>-44</td>\n",
       "      <td>both</td>\n",
       "    </tr>\n",
       "    <tr>\n",
       "      <th>2</th>\n",
       "      <td>1</td>\n",
       "      <td>Chocolate Sandwich Cookies</td>\n",
       "      <td>61</td>\n",
       "      <td>19</td>\n",
       "      <td>5.800781</td>\n",
       "      <td>389851</td>\n",
       "      <td>709</td>\n",
       "      <td>2</td>\n",
       "      <td>0</td>\n",
       "      <td>21</td>\n",
       "      <td>...</td>\n",
       "      <td>Deborah</td>\n",
       "      <td>Glass</td>\n",
       "      <td>Female</td>\n",
       "      <td>Vermont</td>\n",
       "      <td>66</td>\n",
       "      <td>6/16/2018</td>\n",
       "      <td>2</td>\n",
       "      <td>married</td>\n",
       "      <td>94</td>\n",
       "      <td>both</td>\n",
       "    </tr>\n",
       "    <tr>\n",
       "      <th>3</th>\n",
       "      <td>1</td>\n",
       "      <td>Chocolate Sandwich Cookies</td>\n",
       "      <td>61</td>\n",
       "      <td>19</td>\n",
       "      <td>5.800781</td>\n",
       "      <td>652770</td>\n",
       "      <td>764</td>\n",
       "      <td>1</td>\n",
       "      <td>3</td>\n",
       "      <td>13</td>\n",
       "      <td>...</td>\n",
       "      <td>Heather</td>\n",
       "      <td>Myers</td>\n",
       "      <td>Female</td>\n",
       "      <td>Wisconsin</td>\n",
       "      <td>40</td>\n",
       "      <td>2/9/2020</td>\n",
       "      <td>3</td>\n",
       "      <td>married</td>\n",
       "      <td>76</td>\n",
       "      <td>both</td>\n",
       "    </tr>\n",
       "    <tr>\n",
       "      <th>4</th>\n",
       "      <td>1</td>\n",
       "      <td>Chocolate Sandwich Cookies</td>\n",
       "      <td>61</td>\n",
       "      <td>19</td>\n",
       "      <td>5.800781</td>\n",
       "      <td>1813452</td>\n",
       "      <td>764</td>\n",
       "      <td>3</td>\n",
       "      <td>4</td>\n",
       "      <td>17</td>\n",
       "      <td>...</td>\n",
       "      <td>Heather</td>\n",
       "      <td>Myers</td>\n",
       "      <td>Female</td>\n",
       "      <td>Wisconsin</td>\n",
       "      <td>40</td>\n",
       "      <td>2/9/2020</td>\n",
       "      <td>3</td>\n",
       "      <td>married</td>\n",
       "      <td>76</td>\n",
       "      <td>both</td>\n",
       "    </tr>\n",
       "  </tbody>\n",
       "</table>\n",
       "<p>5 rows × 32 columns</p>\n",
       "</div>"
      ],
      "text/plain": [
       "   product_id                product_name  aisle_id  department_id    prices  \\\n",
       "0           1  Chocolate Sandwich Cookies        61             19  5.800781   \n",
       "1           1  Chocolate Sandwich Cookies        61             19  5.800781   \n",
       "2           1  Chocolate Sandwich Cookies        61             19  5.800781   \n",
       "3           1  Chocolate Sandwich Cookies        61             19  5.800781   \n",
       "4           1  Chocolate Sandwich Cookies        61             19  5.800781   \n",
       "\n",
       "  order_id user_id  order_number  orders_day_of_week  order_hour_of_day  ...  \\\n",
       "0  3139998     138            28                   6                 11  ...   \n",
       "1  1977647     138            30                   6                 17  ...   \n",
       "2   389851     709             2                   0                 21  ...   \n",
       "3   652770     764             1                   3                 13  ...   \n",
       "4  1813452     764             3                   4                 17  ...   \n",
       "\n",
       "   first_name  surname  gender      state age date_joined  \\\n",
       "0     Charles      Cox    Male  Minnesota  81    8/1/2019   \n",
       "1     Charles      Cox    Male  Minnesota  81    8/1/2019   \n",
       "2     Deborah    Glass  Female    Vermont  66   6/16/2018   \n",
       "3     Heather    Myers  Female  Wisconsin  40    2/9/2020   \n",
       "4     Heather    Myers  Female  Wisconsin  40    2/9/2020   \n",
       "\n",
       "   number_of_dependants marital_status  income _merge  \n",
       "0                     1        married     -44   both  \n",
       "1                     1        married     -44   both  \n",
       "2                     2        married      94   both  \n",
       "3                     3        married      76   both  \n",
       "4                     3        married      76   both  \n",
       "\n",
       "[5 rows x 32 columns]"
      ]
     },
     "execution_count": 46,
     "metadata": {},
     "output_type": "execute_result"
    }
   ],
   "source": [
    "#output check\n",
    "df_c_o_p_m.head()"
   ]
  },
  {
   "cell_type": "code",
   "execution_count": 47,
   "id": "d21a6466-63cb-4c79-b9da-95a2268c7165",
   "metadata": {},
   "outputs": [
    {
     "data": {
      "text/plain": [
       "(32404859, 32)"
      ]
     },
     "execution_count": 47,
     "metadata": {},
     "output_type": "execute_result"
    }
   ],
   "source": [
    "#shape check\n",
    "df_c_o_p_m.shape"
   ]
  },
  {
   "cell_type": "code",
   "execution_count": 48,
   "id": "421e996e-7a49-47a0-82d1-0387001c3b23",
   "metadata": {},
   "outputs": [
    {
     "data": {
      "text/plain": [
       "product_id                  int32\n",
       "product_name               object\n",
       "aisle_id                    int16\n",
       "department_id               int16\n",
       "prices                    float64\n",
       "order_id                   object\n",
       "user_id                    object\n",
       "order_number                int16\n",
       "orders_day_of_week          int16\n",
       "order_hour_of_day           int16\n",
       "days_without_ordering     float16\n",
       "add_to_cart_order           int16\n",
       "reordered                   int16\n",
       "price_label                object\n",
       "busiest_days               object\n",
       "busiest_period_of_day      object\n",
       "max_order                   int16\n",
       "loyalty_flag               object\n",
       "user_mean_price           float64\n",
       "Spender_habit              object\n",
       "median_days_no_order      float16\n",
       "customer_type              object\n",
       "first_name                 object\n",
       "surname                    object\n",
       "gender                     object\n",
       "state                      object\n",
       "age                          int8\n",
       "date_joined                object\n",
       "number_of_dependants         int8\n",
       "marital_status             object\n",
       "income                       int8\n",
       "_merge                   category\n",
       "dtype: object"
      ]
     },
     "execution_count": 48,
     "metadata": {},
     "output_type": "execute_result"
    }
   ],
   "source": [
    "#datatype check\n",
    "df_c_o_p_m.dtypes"
   ]
  },
  {
   "cell_type": "markdown",
   "id": "65668f00-0f36-4426-a3ca-c355ae7edd80",
   "metadata": {},
   "source": [
    "# 06 Export"
   ]
  },
  {
   "cell_type": "code",
   "execution_count": 86,
   "id": "0c33f51b-e327-4df9-8696-08544e065a60",
   "metadata": {},
   "outputs": [],
   "source": [
    "df_c_o_p_m.to_pickle(os.path.join(path, 'Prepared Data', 'customers_orders_products.pkl'))"
   ]
  },
  {
   "cell_type": "code",
   "execution_count": null,
   "id": "11d8a1f8-1bf2-43ef-9c30-bc57d7f2a048",
   "metadata": {},
   "outputs": [],
   "source": []
  }
 ],
 "metadata": {
  "kernelspec": {
   "display_name": "Python [conda env:base] *",
   "language": "python",
   "name": "conda-base-py"
  },
  "language_info": {
   "codemirror_mode": {
    "name": "ipython",
    "version": 3
   },
   "file_extension": ".py",
   "mimetype": "text/x-python",
   "name": "python",
   "nbconvert_exporter": "python",
   "pygments_lexer": "ipython3",
   "version": "3.12.7"
  }
 },
 "nbformat": 4,
 "nbformat_minor": 5
}
