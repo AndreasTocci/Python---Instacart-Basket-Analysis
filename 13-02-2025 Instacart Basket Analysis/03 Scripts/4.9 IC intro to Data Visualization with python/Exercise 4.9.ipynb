{
 "cells": [
  {
   "cell_type": "markdown",
   "id": "d4e15f60-0ea9-48fd-a6d0-275464c65f94",
   "metadata": {},
   "source": [
    "# Import Libraries"
   ]
  },
  {
   "cell_type": "code",
   "execution_count": 3,
   "id": "90b8de0b-59f0-40dd-9e8f-ae7453b90ced",
   "metadata": {},
   "outputs": [],
   "source": [
    "import pandas as pd\n",
    "import numpy as np\n",
    "import os\n",
    "import matplotlib.pyplot as plt\n",
    "import seaborn as sns\n",
    "import scipy"
   ]
  },
  {
   "cell_type": "markdown",
   "id": "2d3f1a94-082b-440e-bd98-76c6ac630eac",
   "metadata": {},
   "source": [
    "# Import Dataframe"
   ]
  },
  {
   "cell_type": "markdown",
   "id": "5d581016-c519-4618-a261-083729a14585",
   "metadata": {},
   "source": [
    "## Path Creation"
   ]
  },
  {
   "cell_type": "code",
   "execution_count": 6,
   "id": "76733725-895c-4182-bfbd-416941ecc32b",
   "metadata": {},
   "outputs": [],
   "source": [
    "path = r'/Users/Andreas/Desktop/13-02-2025 Instacart Basket Analysis/02 Data/Prepared Data/orders_products_merged'"
   ]
  },
  {
   "cell_type": "code",
   "execution_count": 7,
   "id": "52e11c7c-8757-48a9-9fe1-88f2d28475b7",
   "metadata": {},
   "outputs": [
    {
     "data": {
      "text/plain": [
       "'/Users/Andreas/Desktop/13-02-2025 Instacart Basket Analysis/02 Data/Prepared Data/orders_products_merged'"
      ]
     },
     "execution_count": 7,
     "metadata": {},
     "output_type": "execute_result"
    }
   ],
   "source": [
    "path"
   ]
  },
  {
   "cell_type": "markdown",
   "id": "5850d214-6d1c-46db-9c2c-77221093fdbf",
   "metadata": {},
   "source": [
    "## Import dataframe"
   ]
  },
  {
   "cell_type": "code",
   "execution_count": 9,
   "id": "74b8f691-cdde-47f1-8cff-d823682e85ac",
   "metadata": {},
   "outputs": [],
   "source": [
    "#Importing orders_products_merge3.pkl as df_o_p_m\n",
    "df_o_p_m = pd.read_pickle(os.path.join(path, 'orders_products_merge3.pkl'))"
   ]
  },
  {
   "cell_type": "code",
   "execution_count": 10,
   "id": "19f357e4-8f57-4a4d-b9da-7e2f0561b875",
   "metadata": {},
   "outputs": [
    {
     "data": {
      "text/html": [
       "<div>\n",
       "<style scoped>\n",
       "    .dataframe tbody tr th:only-of-type {\n",
       "        vertical-align: middle;\n",
       "    }\n",
       "\n",
       "    .dataframe tbody tr th {\n",
       "        vertical-align: top;\n",
       "    }\n",
       "\n",
       "    .dataframe thead th {\n",
       "        text-align: right;\n",
       "    }\n",
       "</style>\n",
       "<table border=\"1\" class=\"dataframe\">\n",
       "  <thead>\n",
       "    <tr style=\"text-align: right;\">\n",
       "      <th></th>\n",
       "      <th>product_id</th>\n",
       "      <th>product_name</th>\n",
       "      <th>aisle_id</th>\n",
       "      <th>department_id</th>\n",
       "      <th>prices</th>\n",
       "      <th>order_id</th>\n",
       "      <th>user_id</th>\n",
       "      <th>order_number</th>\n",
       "      <th>orders_day_of_week</th>\n",
       "      <th>order_hour_of_day</th>\n",
       "      <th>...</th>\n",
       "      <th>price_label</th>\n",
       "      <th>busiest_day</th>\n",
       "      <th>busiest_days</th>\n",
       "      <th>busiest_period_of_day</th>\n",
       "      <th>max_order</th>\n",
       "      <th>loyalty_flag</th>\n",
       "      <th>user_mean_price</th>\n",
       "      <th>Spender_habit</th>\n",
       "      <th>median_days_no_order</th>\n",
       "      <th>Customer Type</th>\n",
       "    </tr>\n",
       "  </thead>\n",
       "  <tbody>\n",
       "    <tr>\n",
       "      <th>0</th>\n",
       "      <td>1</td>\n",
       "      <td>Chocolate Sandwich Cookies</td>\n",
       "      <td>61</td>\n",
       "      <td>19</td>\n",
       "      <td>5.800781</td>\n",
       "      <td>3139998</td>\n",
       "      <td>138</td>\n",
       "      <td>28</td>\n",
       "      <td>6</td>\n",
       "      <td>11</td>\n",
       "      <td>...</td>\n",
       "      <td>Mid-range product</td>\n",
       "      <td>Regularly busy</td>\n",
       "      <td>Regularly busy days</td>\n",
       "      <td>Most Orders</td>\n",
       "      <td>32</td>\n",
       "      <td>Regular Customer</td>\n",
       "      <td>6.936029</td>\n",
       "      <td>Low Spender</td>\n",
       "      <td>8.0</td>\n",
       "      <td>Frequent Customer</td>\n",
       "    </tr>\n",
       "    <tr>\n",
       "      <th>1</th>\n",
       "      <td>1</td>\n",
       "      <td>Chocolate Sandwich Cookies</td>\n",
       "      <td>61</td>\n",
       "      <td>19</td>\n",
       "      <td>5.800781</td>\n",
       "      <td>1977647</td>\n",
       "      <td>138</td>\n",
       "      <td>30</td>\n",
       "      <td>6</td>\n",
       "      <td>17</td>\n",
       "      <td>...</td>\n",
       "      <td>Mid-range product</td>\n",
       "      <td>Regularly busy</td>\n",
       "      <td>Regularly busy days</td>\n",
       "      <td>Average Orders</td>\n",
       "      <td>32</td>\n",
       "      <td>Regular Customer</td>\n",
       "      <td>6.936029</td>\n",
       "      <td>Low Spender</td>\n",
       "      <td>8.0</td>\n",
       "      <td>Frequent Customer</td>\n",
       "    </tr>\n",
       "    <tr>\n",
       "      <th>2</th>\n",
       "      <td>1</td>\n",
       "      <td>Chocolate Sandwich Cookies</td>\n",
       "      <td>61</td>\n",
       "      <td>19</td>\n",
       "      <td>5.800781</td>\n",
       "      <td>389851</td>\n",
       "      <td>709</td>\n",
       "      <td>2</td>\n",
       "      <td>0</td>\n",
       "      <td>21</td>\n",
       "      <td>...</td>\n",
       "      <td>Mid-range product</td>\n",
       "      <td>Busiest day</td>\n",
       "      <td>Busiest days</td>\n",
       "      <td>Average Orders</td>\n",
       "      <td>5</td>\n",
       "      <td>New Customer</td>\n",
       "      <td>7.930211</td>\n",
       "      <td>Low Spender</td>\n",
       "      <td>6.0</td>\n",
       "      <td>Frequent Customer</td>\n",
       "    </tr>\n",
       "    <tr>\n",
       "      <th>3</th>\n",
       "      <td>1</td>\n",
       "      <td>Chocolate Sandwich Cookies</td>\n",
       "      <td>61</td>\n",
       "      <td>19</td>\n",
       "      <td>5.800781</td>\n",
       "      <td>652770</td>\n",
       "      <td>764</td>\n",
       "      <td>1</td>\n",
       "      <td>3</td>\n",
       "      <td>13</td>\n",
       "      <td>...</td>\n",
       "      <td>Mid-range product</td>\n",
       "      <td>Regularly busy</td>\n",
       "      <td>Least busy days</td>\n",
       "      <td>Most Orders</td>\n",
       "      <td>3</td>\n",
       "      <td>New Customer</td>\n",
       "      <td>4.972421</td>\n",
       "      <td>Low Spender</td>\n",
       "      <td>9.0</td>\n",
       "      <td>Frequent Customer</td>\n",
       "    </tr>\n",
       "    <tr>\n",
       "      <th>4</th>\n",
       "      <td>1</td>\n",
       "      <td>Chocolate Sandwich Cookies</td>\n",
       "      <td>61</td>\n",
       "      <td>19</td>\n",
       "      <td>5.800781</td>\n",
       "      <td>1813452</td>\n",
       "      <td>764</td>\n",
       "      <td>3</td>\n",
       "      <td>4</td>\n",
       "      <td>17</td>\n",
       "      <td>...</td>\n",
       "      <td>Mid-range product</td>\n",
       "      <td>Least busy</td>\n",
       "      <td>Least busy days</td>\n",
       "      <td>Average Orders</td>\n",
       "      <td>3</td>\n",
       "      <td>New Customer</td>\n",
       "      <td>4.972421</td>\n",
       "      <td>Low Spender</td>\n",
       "      <td>9.0</td>\n",
       "      <td>Frequent Customer</td>\n",
       "    </tr>\n",
       "  </tbody>\n",
       "</table>\n",
       "<p>5 rows × 24 columns</p>\n",
       "</div>"
      ],
      "text/plain": [
       "   product_id                product_name  aisle_id  department_id    prices  \\\n",
       "0           1  Chocolate Sandwich Cookies        61             19  5.800781   \n",
       "1           1  Chocolate Sandwich Cookies        61             19  5.800781   \n",
       "2           1  Chocolate Sandwich Cookies        61             19  5.800781   \n",
       "3           1  Chocolate Sandwich Cookies        61             19  5.800781   \n",
       "4           1  Chocolate Sandwich Cookies        61             19  5.800781   \n",
       "\n",
       "   order_id  user_id  order_number  orders_day_of_week  order_hour_of_day  \\\n",
       "0   3139998      138            28                   6                 11   \n",
       "1   1977647      138            30                   6                 17   \n",
       "2    389851      709             2                   0                 21   \n",
       "3    652770      764             1                   3                 13   \n",
       "4   1813452      764             3                   4                 17   \n",
       "\n",
       "   ...        price_label     busiest_day         busiest_days  \\\n",
       "0  ...  Mid-range product  Regularly busy  Regularly busy days   \n",
       "1  ...  Mid-range product  Regularly busy  Regularly busy days   \n",
       "2  ...  Mid-range product     Busiest day         Busiest days   \n",
       "3  ...  Mid-range product  Regularly busy      Least busy days   \n",
       "4  ...  Mid-range product      Least busy      Least busy days   \n",
       "\n",
       "  busiest_period_of_day max_order      loyalty_flag user_mean_price  \\\n",
       "0           Most Orders        32  Regular Customer        6.936029   \n",
       "1        Average Orders        32  Regular Customer        6.936029   \n",
       "2        Average Orders         5      New Customer        7.930211   \n",
       "3           Most Orders         3      New Customer        4.972421   \n",
       "4        Average Orders         3      New Customer        4.972421   \n",
       "\n",
       "  Spender_habit  median_days_no_order      Customer Type  \n",
       "0   Low Spender                   8.0  Frequent Customer  \n",
       "1   Low Spender                   8.0  Frequent Customer  \n",
       "2   Low Spender                   6.0  Frequent Customer  \n",
       "3   Low Spender                   9.0  Frequent Customer  \n",
       "4   Low Spender                   9.0  Frequent Customer  \n",
       "\n",
       "[5 rows x 24 columns]"
      ]
     },
     "execution_count": 10,
     "metadata": {},
     "output_type": "execute_result"
    }
   ],
   "source": [
    "#Checking output\n",
    "df_o_p_m.head()"
   ]
  },
  {
   "cell_type": "markdown",
   "id": "1d31b3a5-76f2-4d60-8be1-d5e546f6330d",
   "metadata": {},
   "source": [
    "# Creating Bar Charts"
   ]
  },
  {
   "cell_type": "code",
   "execution_count": 12,
   "id": "bedd1e98-9255-4e88-a1d9-39aa4a04e82a",
   "metadata": {},
   "outputs": [
    {
     "data": {
      "text/plain": [
       "<Axes: xlabel='orders_day_of_week'>"
      ]
     },
     "execution_count": 12,
     "metadata": {},
     "output_type": "execute_result"
    },
    {
     "data": {
      "image/png": "[encoded data removed]",
      "text/plain": [
       "<Figure size 640x480 with 1 Axes>"
      ]
     },
     "metadata": {},
     "output_type": "display_data"
    }
   ],
   "source": [
    "# plot a bar graph for the count of the orders_day_of_week column in df_o_p_m (order highest to lowest)\n",
    "df_o_p_m['orders_day_of_week'].value_counts().plot.bar()"
   ]
  },
  {
   "cell_type": "code",
   "execution_count": 13,
   "id": "c2a4744a-16cd-484b-8878-80c5f809f29e",
   "metadata": {},
   "outputs": [
    {
     "data": {
      "image/png": "[encoded data removed]",
      "text/plain": [
       "<Figure size 640x480 with 1 Axes>"
      ]
     },
     "metadata": {},
     "output_type": "display_data"
    }
   ],
   "source": [
    "# plot a bar graph for the countt of the orders_day_of_week column in df_o_p_m (in order of the index)\n",
    "bar = df_o_p_m['orders_day_of_week'].value_counts().sort_index().plot.bar()"
   ]
  },
  {
   "cell_type": "code",
   "execution_count": 14,
   "id": "026f24be-0db9-44a3-8c0b-68950c8cd6a5",
   "metadata": {},
   "outputs": [
    {
     "data": {
      "image/png": "[encoded data removed]",
      "text/plain": [
       "<Figure size 640x480 with 1 Axes>"
      ]
     },
     "metadata": {},
     "output_type": "display_data"
    }
   ],
   "source": [
    "#adding colour\n",
    "bar = df_o_p_m['orders_day_of_week'].value_counts().sort_index().plot.bar(color = ['red','yellow','blue','green','purple','grey','pink'])"
   ]
  },
  {
   "cell_type": "markdown",
   "id": "cffb8d36-0551-4019-8a79-77a7a227e9c7",
   "metadata": {},
   "source": [
    "## Exporting Charts"
   ]
  },
  {
   "cell_type": "code",
   "execution_count": 16,
   "id": "92c3af67-d4bd-4b3d-b74b-497564b69cc4",
   "metadata": {},
   "outputs": [],
   "source": [
    "#Create path for visualizations\n",
    "path2 = r'/Users/Andreas/Desktop/13-02-2025 Instacart Basket Analysis/04 Analysis/Visualizations'"
   ]
  },
  {
   "cell_type": "code",
   "execution_count": 17,
   "id": "021d185f-dae0-45b2-b9f6-3fe9cf45b382",
   "metadata": {},
   "outputs": [
    {
     "data": {
      "text/plain": [
       "'/Users/Andreas/Desktop/13-02-2025 Instacart Basket Analysis/04 Analysis/Visualizations'"
      ]
     },
     "execution_count": 17,
     "metadata": {},
     "output_type": "execute_result"
    }
   ],
   "source": [
    "path2"
   ]
  },
  {
   "cell_type": "code",
   "execution_count": 18,
   "id": "e29f8c0f-e58a-44e4-844c-8df5d54a60bb",
   "metadata": {},
   "outputs": [],
   "source": [
    "#Export bar.figure \n",
    "bar.figure.savefig(os.path.join(path2, 'bar_orders_dow.png'))"
   ]
  },
  {
   "cell_type": "markdown",
   "id": "6dd662c4-966b-4fd4-8f5e-f98308f907e7",
   "metadata": {},
   "source": [
    "# Creating Histograms"
   ]
  },
  {
   "cell_type": "code",
   "execution_count": 37,
   "id": "4b7590ed-9e3c-442f-8613-931eee286da3",
   "metadata": {},
   "outputs": [
    {
     "data": {
      "image/png": "[encoded data removed]",
      "text/plain": [
       "<Figure size 640x480 with 1 Axes>"
      ]
     },
     "metadata": {},
     "output_type": "display_data"
    }
   ],
   "source": [
    "#in df_o_p_m plot a histogram of the prices column with 70 bins\n",
    "hist = df_o_p_m['prices'].plot.hist(bins = 70)"
   ]
  },
  {
   "cell_type": "code",
   "execution_count": 38,
   "id": "d57a2899-edec-4fd5-91fb-124648bf3bcc",
   "metadata": {},
   "outputs": [],
   "source": [
    "#Removing outliers that are skewing data and replacing them with N\n",
    "df_o_p_m.loc[df_o_p_m['prices'] >100, 'prices'] = np.nan"
   ]
  },
  {
   "cell_type": "code",
   "execution_count": 45,
   "id": "17f2f060-86d5-49da-8afa-9d2ca0ba13e1",
   "metadata": {},
   "outputs": [
    {
     "data": {
      "text/plain": [
       "25.0"
      ]
     },
     "execution_count": 45,
     "metadata": {},
     "output_type": "execute_result"
    }
   ],
   "source": [
    "#check output\n",
    "df_o_p_m['prices'].max()"
   ]
  },
  {
   "cell_type": "code",
   "execution_count": 41,
   "id": "80920eaf-40d0-4ca1-95f7-8beed7cd7c43",
   "metadata": {},
   "outputs": [],
   "source": [
    "#Export Histogram\n",
    "hist.figure.savefig(os.path.join(path2, 'prices_histogram.png'))"
   ]
  },
  {
   "cell_type": "markdown",
   "id": "50ed15fd-e82d-4050-8f18-23c9001d4aaf",
   "metadata": {},
   "source": [
    "# SAMPLING DATA"
   ]
  },
  {
   "cell_type": "markdown",
   "id": "badc422f-1ce8-4261-9904-121dafc0c7e8",
   "metadata": {},
   "source": [
    "## Step by Step Guide\n",
    "    \n",
    "    1.Set the seed for the random number generator.\n",
    "   \n",
    "    2.Create 32,404,859 random numbers (the length of your ords_prods_merge dataframe) ranging between 0 and 1\n",
    "    \n",
    "    3.Code a logical test comparing each of those numbers to a value of 0.7 (either less than or greater than 0.7)\n",
    "\n",
    "    4.Store the results of the test in a new list, dev, in the form of boolean values (True and False)."
   ]
  },
  {
   "cell_type": "code",
   "execution_count": 47,
   "id": "41530c85-6659-482d-ab45-7a3c3c8d7f91",
   "metadata": {},
   "outputs": [],
   "source": [
    "#Creating Sample of df_o_p_m \n",
    "np.random.seed(4)\n",
    "dev = np.random.rand(len(df_o_p_m)) <= 0.7"
   ]
  },
  {
   "cell_type": "markdown",
   "id": "9f87626a-5a9b-40d9-a577-b7f3c54c64a0",
   "metadata": {},
   "source": [
    "    You now have a list of 32,434,212 boolean values and a dataframe that’s 32,434,212 rows long. How can you use your list to split your dataframe into two samples?\n",
    "\n",
    "    big = ords_prods_merge[dev]\n",
    "    small = ords_prods_merge[~dev]\n",
    "\n",
    "    The two dataframes above, big and small, are the samples you’ll create from your ords_prods_merge dataframe. What you want to do is store 70 percent of your dataframe in the big sample and 30 percent of your dataframe in the small sample. You’ll do this according to the values in your dev list. For every value in the list that’s True, the corresponding row in your ords_prods_merge dataframe will be stored in the big sample. For every value in the list that’s False, the corresponding row in your dataframe will be stored in the small sample. Since True and False were determined by whether or not the random number was less than or greater than 0.7, this means that 70 percent of the rows should logically be sorted into big and 30 percent of the rows should logically be sorted into small. The tilde you see in the second line negates the argument, in other words, it stores everything that’s not dev, or False."
   ]
  },
  {
   "cell_type": "code",
   "execution_count": 49,
   "id": "4211f14b-5d92-4646-a559-1afd4fe3c923",
   "metadata": {},
   "outputs": [],
   "source": [
    "# Store 70% of sample in dataframe big\n",
    "big = df_o_p_m[dev]"
   ]
  },
  {
   "cell_type": "code",
   "execution_count": 50,
   "id": "b78c52df-e1d6-4605-ae7c-e49cff68c6e6",
   "metadata": {},
   "outputs": [],
   "source": [
    "# Store 30% of sample in dataframe small\n",
    "small = df_o_p_m[~dev]"
   ]
  },
  {
   "cell_type": "markdown",
   "id": "9a72bddf-cf0b-4059-8576-b22a52e1f2ea",
   "metadata": {},
   "source": [
    "    The first step, then, is to create some random samples. A sample, as you learned back in Achievement 1, is a representative subsection of a population. In this case, you can split your dataframe into two samples with the same distribution, for instance an 80/20 or 70/30 split. If done correctly, both samples would have an equal proportion of data. In a 70/30 split, for example, the 30 percent sample would statistically resemble the 70 percent sample but contain less rows. You can then create charts from these samples the same as you would any other subset, the only difference being that you know these subsets accurately represent the entire dataframe as a whole."
   ]
  },
  {
   "cell_type": "code",
   "execution_count": 53,
   "id": "92104dfa-6878-44a3-aa1a-9af1172aa133",
   "metadata": {},
   "outputs": [
    {
     "data": {
      "text/plain": [
       "32404859"
      ]
     },
     "execution_count": 53,
     "metadata": {},
     "output_type": "execute_result"
    }
   ],
   "source": [
    "#checking big and small dfs together are the same size as df_o_p_m\n",
    "len(df_o_p_m)"
   ]
  },
  {
   "cell_type": "code",
   "execution_count": 55,
   "id": "011188e5-4fae-4c2f-a621-847818b4bbc5",
   "metadata": {},
   "outputs": [
    {
     "data": {
      "text/plain": [
       "32404859"
      ]
     },
     "execution_count": 55,
     "metadata": {},
     "output_type": "execute_result"
    }
   ],
   "source": [
    "len(big) + len(small)"
   ]
  },
  {
   "cell_type": "code",
   "execution_count": 57,
   "id": "49850d4e-52f5-4e60-9fd5-72445d806b81",
   "metadata": {},
   "outputs": [],
   "source": [
    "# create dataframe df_2 that contains the orders_dow and prices columns from small\n",
    "df_2 = small[['orders_day_of_week','prices']]"
   ]
  },
  {
   "cell_type": "code",
   "execution_count": 59,
   "id": "83da60a4-8522-47ad-a08c-faddb2720123",
   "metadata": {},
   "outputs": [
    {
     "data": {
      "image/png": "[encoded data removed]",
      "text/plain": [
       "<Figure size 640x480 with 1 Axes>"
      ]
     },
     "metadata": {},
     "output_type": "display_data"
    }
   ],
   "source": [
    "# create line graph from df_2 with x axis = orders dow and y axis = prices\n",
    "line = sns.lineplot(data = df_2, x = 'orders_day_of_week',y = 'prices')"
   ]
  },
  {
   "cell_type": "code",
   "execution_count": 61,
   "id": "5667d8c2-aa2b-46db-9b01-e69791a28bca",
   "metadata": {},
   "outputs": [],
   "source": [
    "line.figure.savefig(os.path.join(path2, 'order_dow by prices line graph.png'))"
   ]
  },
  {
   "cell_type": "code",
   "execution_count": null,
   "id": "23ec07ee-3e08-472d-8da8-6c8c149b4da1",
   "metadata": {},
   "outputs": [],
   "source": []
  }
 ],
 "metadata": {
  "kernelspec": {
   "display_name": "Python [conda env:base] *",
   "language": "python",
   "name": "conda-base-py"
  },
  "language_info": {
   "codemirror_mode": {
    "name": "ipython",
    "version": 3
   },
   "file_extension": ".py",
   "mimetype": "text/x-python",
   "name": "python",
   "nbconvert_exporter": "python",
   "pygments_lexer": "ipython3",
   "version": "3.12.7"
  }
 },
 "nbformat": 4,
 "nbformat_minor": 5
}
