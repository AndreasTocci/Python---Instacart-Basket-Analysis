{
 "cells": [
  {
   "cell_type": "markdown",
   "id": "2d23d7d4-6f45-4413-9dbc-19ee00b8fb28",
   "metadata": {},
   "source": [
    "# Task"
   ]
  },
  {
   "cell_type": "markdown",
   "id": "8620e9e4-9546-4024-8fba-ce300d2b0856",
   "metadata": {},
   "source": [
    "# 01 Importing Libraries"
   ]
  },
  {
   "cell_type": "code",
   "execution_count": 4,
   "id": "0d06099c-a611-4002-8ba2-72a326e301f3",
   "metadata": {},
   "outputs": [],
   "source": [
    "# Importing Analysis Libraries\n",
    "import pandas as pd\n",
    "import numpy as np\n",
    "import os"
   ]
  },
  {
   "cell_type": "code",
   "execution_count": 5,
   "id": "08446bed-d481-4b33-9f5f-cb1877cdc95e",
   "metadata": {},
   "outputs": [],
   "source": [
    "# Importing Visualization Libraries\n",
    "import matplotlib.pyplot as plt\n",
    "import seaborn as sns\n",
    "import scipy"
   ]
  },
  {
   "cell_type": "markdown",
   "id": "5dc05d0a-791f-48b7-beb9-c541b121cfc5",
   "metadata": {},
   "source": [
    "# 02 Import Dataframes"
   ]
  },
  {
   "cell_type": "markdown",
   "id": "732912f1-5985-45d8-bbcd-1d3392f22dbe",
   "metadata": {},
   "source": [
    "## Creating Path"
   ]
  },
  {
   "cell_type": "code",
   "execution_count": 8,
   "id": "283d1907-8929-41a1-a537-0058a7eb4d60",
   "metadata": {},
   "outputs": [],
   "source": [
    "# Creating a path for prepared data\n",
    "path = r'/Users/Andreas/Desktop/13-02-2025 Instacart Basket Analysis/02 Data/Prepared Data'"
   ]
  },
  {
   "cell_type": "code",
   "execution_count": 9,
   "id": "79eb427b-6104-4b71-ba23-e3d210717373",
   "metadata": {},
   "outputs": [
    {
     "data": {
      "text/plain": [
       "'/Users/Andreas/Desktop/13-02-2025 Instacart Basket Analysis/02 Data/Prepared Data'"
      ]
     },
     "execution_count": 9,
     "metadata": {},
     "output_type": "execute_result"
    }
   ],
   "source": [
    "# Testing output\n",
    "path"
   ]
  },
  {
   "cell_type": "markdown",
   "id": "06d216b0-af99-46a8-ad5c-d6bff269217e",
   "metadata": {},
   "source": [
    "## Importing dataframe"
   ]
  },
  {
   "cell_type": "code",
   "execution_count": 11,
   "id": "88645d0c-718c-4d6e-87c9-87ced09260b4",
   "metadata": {},
   "outputs": [],
   "source": [
    "# Import customers_orders_products.pkl as df\n",
    "df_c_o_p = pd.read_pickle(os.path.join(path, 'customers_orders_products.pkl'))"
   ]
  },
  {
   "cell_type": "code",
   "execution_count": 12,
   "id": "78b2b8d5-d537-41a1-abbe-dc721732211c",
   "metadata": {},
   "outputs": [
    {
     "data": {
      "text/html": [
       "<div>\n",
       "<style scoped>\n",
       "    .dataframe tbody tr th:only-of-type {\n",
       "        vertical-align: middle;\n",
       "    }\n",
       "\n",
       "    .dataframe tbody tr th {\n",
       "        vertical-align: top;\n",
       "    }\n",
       "\n",
       "    .dataframe thead th {\n",
       "        text-align: right;\n",
       "    }\n",
       "</style>\n",
       "<table border=\"1\" class=\"dataframe\">\n",
       "  <thead>\n",
       "    <tr style=\"text-align: right;\">\n",
       "      <th></th>\n",
       "      <th>product_id</th>\n",
       "      <th>product_name</th>\n",
       "      <th>aisle_id</th>\n",
       "      <th>department_id</th>\n",
       "      <th>prices</th>\n",
       "      <th>order_id</th>\n",
       "      <th>user_id</th>\n",
       "      <th>order_number</th>\n",
       "      <th>orders_day_of_week</th>\n",
       "      <th>order_hour_of_day</th>\n",
       "      <th>...</th>\n",
       "      <th>first_name</th>\n",
       "      <th>surname</th>\n",
       "      <th>gender</th>\n",
       "      <th>state</th>\n",
       "      <th>age</th>\n",
       "      <th>date_joined</th>\n",
       "      <th>number_of_dependants</th>\n",
       "      <th>marital_status</th>\n",
       "      <th>income</th>\n",
       "      <th>_merge</th>\n",
       "    </tr>\n",
       "  </thead>\n",
       "  <tbody>\n",
       "    <tr>\n",
       "      <th>0</th>\n",
       "      <td>1</td>\n",
       "      <td>Chocolate Sandwich Cookies</td>\n",
       "      <td>61</td>\n",
       "      <td>19</td>\n",
       "      <td>5.800781</td>\n",
       "      <td>3139998</td>\n",
       "      <td>138</td>\n",
       "      <td>28</td>\n",
       "      <td>6</td>\n",
       "      <td>11</td>\n",
       "      <td>...</td>\n",
       "      <td>Charles</td>\n",
       "      <td>Cox</td>\n",
       "      <td>Male</td>\n",
       "      <td>Minnesota</td>\n",
       "      <td>81</td>\n",
       "      <td>8/1/2019</td>\n",
       "      <td>1</td>\n",
       "      <td>married</td>\n",
       "      <td>-44</td>\n",
       "      <td>both</td>\n",
       "    </tr>\n",
       "    <tr>\n",
       "      <th>1</th>\n",
       "      <td>1</td>\n",
       "      <td>Chocolate Sandwich Cookies</td>\n",
       "      <td>61</td>\n",
       "      <td>19</td>\n",
       "      <td>5.800781</td>\n",
       "      <td>1977647</td>\n",
       "      <td>138</td>\n",
       "      <td>30</td>\n",
       "      <td>6</td>\n",
       "      <td>17</td>\n",
       "      <td>...</td>\n",
       "      <td>Charles</td>\n",
       "      <td>Cox</td>\n",
       "      <td>Male</td>\n",
       "      <td>Minnesota</td>\n",
       "      <td>81</td>\n",
       "      <td>8/1/2019</td>\n",
       "      <td>1</td>\n",
       "      <td>married</td>\n",
       "      <td>-44</td>\n",
       "      <td>both</td>\n",
       "    </tr>\n",
       "    <tr>\n",
       "      <th>2</th>\n",
       "      <td>1</td>\n",
       "      <td>Chocolate Sandwich Cookies</td>\n",
       "      <td>61</td>\n",
       "      <td>19</td>\n",
       "      <td>5.800781</td>\n",
       "      <td>389851</td>\n",
       "      <td>709</td>\n",
       "      <td>2</td>\n",
       "      <td>0</td>\n",
       "      <td>21</td>\n",
       "      <td>...</td>\n",
       "      <td>Deborah</td>\n",
       "      <td>Glass</td>\n",
       "      <td>Female</td>\n",
       "      <td>Vermont</td>\n",
       "      <td>66</td>\n",
       "      <td>6/16/2018</td>\n",
       "      <td>2</td>\n",
       "      <td>married</td>\n",
       "      <td>94</td>\n",
       "      <td>both</td>\n",
       "    </tr>\n",
       "    <tr>\n",
       "      <th>3</th>\n",
       "      <td>1</td>\n",
       "      <td>Chocolate Sandwich Cookies</td>\n",
       "      <td>61</td>\n",
       "      <td>19</td>\n",
       "      <td>5.800781</td>\n",
       "      <td>652770</td>\n",
       "      <td>764</td>\n",
       "      <td>1</td>\n",
       "      <td>3</td>\n",
       "      <td>13</td>\n",
       "      <td>...</td>\n",
       "      <td>Heather</td>\n",
       "      <td>Myers</td>\n",
       "      <td>Female</td>\n",
       "      <td>Wisconsin</td>\n",
       "      <td>40</td>\n",
       "      <td>2/9/2020</td>\n",
       "      <td>3</td>\n",
       "      <td>married</td>\n",
       "      <td>76</td>\n",
       "      <td>both</td>\n",
       "    </tr>\n",
       "    <tr>\n",
       "      <th>4</th>\n",
       "      <td>1</td>\n",
       "      <td>Chocolate Sandwich Cookies</td>\n",
       "      <td>61</td>\n",
       "      <td>19</td>\n",
       "      <td>5.800781</td>\n",
       "      <td>1813452</td>\n",
       "      <td>764</td>\n",
       "      <td>3</td>\n",
       "      <td>4</td>\n",
       "      <td>17</td>\n",
       "      <td>...</td>\n",
       "      <td>Heather</td>\n",
       "      <td>Myers</td>\n",
       "      <td>Female</td>\n",
       "      <td>Wisconsin</td>\n",
       "      <td>40</td>\n",
       "      <td>2/9/2020</td>\n",
       "      <td>3</td>\n",
       "      <td>married</td>\n",
       "      <td>76</td>\n",
       "      <td>both</td>\n",
       "    </tr>\n",
       "    <tr>\n",
       "      <th>5</th>\n",
       "      <td>1</td>\n",
       "      <td>Chocolate Sandwich Cookies</td>\n",
       "      <td>61</td>\n",
       "      <td>19</td>\n",
       "      <td>5.800781</td>\n",
       "      <td>1701441</td>\n",
       "      <td>777</td>\n",
       "      <td>16</td>\n",
       "      <td>1</td>\n",
       "      <td>7</td>\n",
       "      <td>...</td>\n",
       "      <td>Christina</td>\n",
       "      <td>Wallace</td>\n",
       "      <td>Female</td>\n",
       "      <td>Hawaii</td>\n",
       "      <td>51</td>\n",
       "      <td>1/4/2019</td>\n",
       "      <td>2</td>\n",
       "      <td>married</td>\n",
       "      <td>-59</td>\n",
       "      <td>both</td>\n",
       "    </tr>\n",
       "    <tr>\n",
       "      <th>6</th>\n",
       "      <td>1</td>\n",
       "      <td>Chocolate Sandwich Cookies</td>\n",
       "      <td>61</td>\n",
       "      <td>19</td>\n",
       "      <td>5.800781</td>\n",
       "      <td>1871483</td>\n",
       "      <td>825</td>\n",
       "      <td>3</td>\n",
       "      <td>2</td>\n",
       "      <td>14</td>\n",
       "      <td>...</td>\n",
       "      <td>nan</td>\n",
       "      <td>Parks</td>\n",
       "      <td>Male</td>\n",
       "      <td>District of Columbia</td>\n",
       "      <td>20</td>\n",
       "      <td>5/8/2019</td>\n",
       "      <td>3</td>\n",
       "      <td>living with parents and siblings</td>\n",
       "      <td>123</td>\n",
       "      <td>both</td>\n",
       "    </tr>\n",
       "    <tr>\n",
       "      <th>7</th>\n",
       "      <td>1</td>\n",
       "      <td>Chocolate Sandwich Cookies</td>\n",
       "      <td>61</td>\n",
       "      <td>19</td>\n",
       "      <td>5.800781</td>\n",
       "      <td>1290456</td>\n",
       "      <td>910</td>\n",
       "      <td>12</td>\n",
       "      <td>3</td>\n",
       "      <td>10</td>\n",
       "      <td>...</td>\n",
       "      <td>Sandra</td>\n",
       "      <td>Trejo</td>\n",
       "      <td>Female</td>\n",
       "      <td>Tennessee</td>\n",
       "      <td>65</td>\n",
       "      <td>7/25/2019</td>\n",
       "      <td>0</td>\n",
       "      <td>divorced/widowed</td>\n",
       "      <td>56</td>\n",
       "      <td>both</td>\n",
       "    </tr>\n",
       "    <tr>\n",
       "      <th>8</th>\n",
       "      <td>1</td>\n",
       "      <td>Chocolate Sandwich Cookies</td>\n",
       "      <td>61</td>\n",
       "      <td>19</td>\n",
       "      <td>5.800781</td>\n",
       "      <td>369558</td>\n",
       "      <td>1052</td>\n",
       "      <td>10</td>\n",
       "      <td>1</td>\n",
       "      <td>20</td>\n",
       "      <td>...</td>\n",
       "      <td>Ralph</td>\n",
       "      <td>Avalos</td>\n",
       "      <td>Male</td>\n",
       "      <td>Oregon</td>\n",
       "      <td>72</td>\n",
       "      <td>3/30/2018</td>\n",
       "      <td>1</td>\n",
       "      <td>married</td>\n",
       "      <td>-13</td>\n",
       "      <td>both</td>\n",
       "    </tr>\n",
       "    <tr>\n",
       "      <th>9</th>\n",
       "      <td>1</td>\n",
       "      <td>Chocolate Sandwich Cookies</td>\n",
       "      <td>61</td>\n",
       "      <td>19</td>\n",
       "      <td>5.800781</td>\n",
       "      <td>589712</td>\n",
       "      <td>1052</td>\n",
       "      <td>15</td>\n",
       "      <td>1</td>\n",
       "      <td>12</td>\n",
       "      <td>...</td>\n",
       "      <td>Ralph</td>\n",
       "      <td>Avalos</td>\n",
       "      <td>Male</td>\n",
       "      <td>Oregon</td>\n",
       "      <td>72</td>\n",
       "      <td>3/30/2018</td>\n",
       "      <td>1</td>\n",
       "      <td>married</td>\n",
       "      <td>-13</td>\n",
       "      <td>both</td>\n",
       "    </tr>\n",
       "  </tbody>\n",
       "</table>\n",
       "<p>10 rows × 32 columns</p>\n",
       "</div>"
      ],
      "text/plain": [
       "   product_id                product_name  aisle_id  department_id    prices  \\\n",
       "0           1  Chocolate Sandwich Cookies        61             19  5.800781   \n",
       "1           1  Chocolate Sandwich Cookies        61             19  5.800781   \n",
       "2           1  Chocolate Sandwich Cookies        61             19  5.800781   \n",
       "3           1  Chocolate Sandwich Cookies        61             19  5.800781   \n",
       "4           1  Chocolate Sandwich Cookies        61             19  5.800781   \n",
       "5           1  Chocolate Sandwich Cookies        61             19  5.800781   \n",
       "6           1  Chocolate Sandwich Cookies        61             19  5.800781   \n",
       "7           1  Chocolate Sandwich Cookies        61             19  5.800781   \n",
       "8           1  Chocolate Sandwich Cookies        61             19  5.800781   \n",
       "9           1  Chocolate Sandwich Cookies        61             19  5.800781   \n",
       "\n",
       "  order_id user_id  order_number  orders_day_of_week  order_hour_of_day  ...  \\\n",
       "0  3139998     138            28                   6                 11  ...   \n",
       "1  1977647     138            30                   6                 17  ...   \n",
       "2   389851     709             2                   0                 21  ...   \n",
       "3   652770     764             1                   3                 13  ...   \n",
       "4  1813452     764             3                   4                 17  ...   \n",
       "5  1701441     777            16                   1                  7  ...   \n",
       "6  1871483     825             3                   2                 14  ...   \n",
       "7  1290456     910            12                   3                 10  ...   \n",
       "8   369558    1052            10                   1                 20  ...   \n",
       "9   589712    1052            15                   1                 12  ...   \n",
       "\n",
       "   first_name  surname  gender                 state age date_joined  \\\n",
       "0     Charles      Cox    Male             Minnesota  81    8/1/2019   \n",
       "1     Charles      Cox    Male             Minnesota  81    8/1/2019   \n",
       "2     Deborah    Glass  Female               Vermont  66   6/16/2018   \n",
       "3     Heather    Myers  Female             Wisconsin  40    2/9/2020   \n",
       "4     Heather    Myers  Female             Wisconsin  40    2/9/2020   \n",
       "5   Christina  Wallace  Female                Hawaii  51    1/4/2019   \n",
       "6         nan    Parks    Male  District of Columbia  20    5/8/2019   \n",
       "7      Sandra    Trejo  Female             Tennessee  65   7/25/2019   \n",
       "8       Ralph   Avalos    Male                Oregon  72   3/30/2018   \n",
       "9       Ralph   Avalos    Male                Oregon  72   3/30/2018   \n",
       "\n",
       "   number_of_dependants                    marital_status  income _merge  \n",
       "0                     1                           married     -44   both  \n",
       "1                     1                           married     -44   both  \n",
       "2                     2                           married      94   both  \n",
       "3                     3                           married      76   both  \n",
       "4                     3                           married      76   both  \n",
       "5                     2                           married     -59   both  \n",
       "6                     3  living with parents and siblings     123   both  \n",
       "7                     0                  divorced/widowed      56   both  \n",
       "8                     1                           married     -13   both  \n",
       "9                     1                           married     -13   both  \n",
       "\n",
       "[10 rows x 32 columns]"
      ]
     },
     "execution_count": 12,
     "metadata": {},
     "output_type": "execute_result"
    }
   ],
   "source": [
    "# Checking output\n",
    "df_c_o_p.head(10)"
   ]
  },
  {
   "cell_type": "code",
   "execution_count": 13,
   "id": "561dc550-4cb4-4817-b875-594b77607403",
   "metadata": {},
   "outputs": [
    {
     "data": {
      "text/plain": [
       "product_id                  int32\n",
       "product_name               object\n",
       "aisle_id                    int16\n",
       "department_id               int16\n",
       "prices                    float64\n",
       "order_id                   object\n",
       "user_id                    object\n",
       "order_number                int16\n",
       "orders_day_of_week          int16\n",
       "order_hour_of_day           int16\n",
       "days_without_ordering     float16\n",
       "add_to_cart_order           int16\n",
       "reordered                   int16\n",
       "price_label                object\n",
       "busiest_days               object\n",
       "busiest_period_of_day      object\n",
       "max_order                   int16\n",
       "loyalty_flag               object\n",
       "user_mean_price           float64\n",
       "Spender_habit              object\n",
       "median_days_no_order      float16\n",
       "customer_type              object\n",
       "first_name                 object\n",
       "surname                    object\n",
       "gender                     object\n",
       "state                      object\n",
       "age                          int8\n",
       "date_joined                object\n",
       "number_of_dependants         int8\n",
       "marital_status             object\n",
       "income                       int8\n",
       "_merge                   category\n",
       "dtype: object"
      ]
     },
     "execution_count": 13,
     "metadata": {},
     "output_type": "execute_result"
    }
   ],
   "source": [
    "# Checking columns and datatypes\n",
    "df_c_o_p.dtypes"
   ]
  },
  {
   "cell_type": "markdown",
   "id": "9d706a9a-6ddc-4078-a785-56ecc232f0d0",
   "metadata": {},
   "source": [
    "# 03 PII Adherence"
   ]
  },
  {
   "cell_type": "markdown",
   "id": "8ac150d7-5e78-418f-bdcc-8f9283b7630e",
   "metadata": {},
   "source": [
    "## PII Issues\n",
    "\n",
    "'first_name' and 'surname' are identifier columns that can pinpoint certain individual especially when used with columns 'state', 'income', 'gender', 'marital_status', 'age' and 'number_of_dependents'\n",
    "\n",
    "This customer information was created by Careerfoundry as a means to practice and execute tasks for this course. This information is totally random. However, for practice purposes first I would contact client and speak with my senior colleagues to make sure that the data that we have recieved from client is in line with GDPR or CCPA rules and regulations\n",
    "\n",
    "I will remove 'first_name' and 'surname' from my analysis data, not the original as we have the 'user_id' as a unique identifier the names don't add anything to our analysis and create an issue with PII compliance."
   ]
  },
  {
   "cell_type": "markdown",
   "id": "85651d18-85a5-46bc-bfc9-d38b13506fff",
   "metadata": {},
   "source": [
    "## Removing Columns to adhere to PII Compliance"
   ]
  },
  {
   "cell_type": "code",
   "execution_count": 17,
   "id": "aade48f6-7e1a-4f56-ab9a-996853e22b56",
   "metadata": {},
   "outputs": [],
   "source": [
    "# Removal of 'first_name' and 'surname' columns\n",
    "df_c_o_p = df_c_o_p.drop(columns = ['first_name', 'surname'])"
   ]
  },
  {
   "cell_type": "code",
   "execution_count": 18,
   "id": "b2f2b02a-2bc2-4d51-ad22-395e07d12405",
   "metadata": {},
   "outputs": [
    {
     "data": {
      "text/plain": [
       "product_id                  int32\n",
       "product_name               object\n",
       "aisle_id                    int16\n",
       "department_id               int16\n",
       "prices                    float64\n",
       "order_id                   object\n",
       "user_id                    object\n",
       "order_number                int16\n",
       "orders_day_of_week          int16\n",
       "order_hour_of_day           int16\n",
       "days_without_ordering     float16\n",
       "add_to_cart_order           int16\n",
       "reordered                   int16\n",
       "price_label                object\n",
       "busiest_days               object\n",
       "busiest_period_of_day      object\n",
       "max_order                   int16\n",
       "loyalty_flag               object\n",
       "user_mean_price           float64\n",
       "Spender_habit              object\n",
       "median_days_no_order      float16\n",
       "customer_type              object\n",
       "gender                     object\n",
       "state                      object\n",
       "age                          int8\n",
       "date_joined                object\n",
       "number_of_dependants         int8\n",
       "marital_status             object\n",
       "income                       int8\n",
       "_merge                   category\n",
       "dtype: object"
      ]
     },
     "execution_count": 18,
     "metadata": {},
     "output_type": "execute_result"
    }
   ],
   "source": [
    "# Checking Columns removed successfully\n",
    "df_c_o_p.dtypes"
   ]
  },
  {
   "cell_type": "markdown",
   "id": "07cce167-d110-40c7-aef2-5f23a1b766b7",
   "metadata": {},
   "source": [
    "'first_name' and 'surname' columns removed successfully"
   ]
  },
  {
   "cell_type": "markdown",
   "id": "cbec8b1d-6759-4edc-8f60-a84f79004fe1",
   "metadata": {},
   "source": [
    "# 04 Creating Region inplace of State\n",
    "\n",
    "The Instacart officers are interested in comparing customer behavior in different geographic areas. Create a regional segmentation of the data. You’ll need to create a “Region” column based on the “State” column from your customers data set."
   ]
  },
  {
   "cell_type": "markdown",
   "id": "25ca9402-eaf7-47e9-8de2-1ed9ec1ecce6",
   "metadata": {},
   "source": [
    "## Finding which States are present in Dataframe"
   ]
  },
  {
   "cell_type": "code",
   "execution_count": 22,
   "id": "dc0d24ec-e05f-4528-b277-bef42d4c89ef",
   "metadata": {},
   "outputs": [
    {
     "data": {
      "text/plain": [
       "state\n",
       "Pennsylvania            667082\n",
       "California              659783\n",
       "Rhode Island            656913\n",
       "Georgia                 656389\n",
       "New Mexico              654494\n",
       "Arizona                 653964\n",
       "North Carolina          651900\n",
       "Oklahoma                651739\n",
       "Alaska                  648495\n",
       "Minnesota               647825\n",
       "Massachusetts           646358\n",
       "Wyoming                 644255\n",
       "Virginia                641421\n",
       "Missouri                640732\n",
       "Texas                   640394\n",
       "Colorado                639280\n",
       "Maine                   638583\n",
       "North Dakota            638491\n",
       "Alabama                 638003\n",
       "Kansas                  637538\n",
       "Louisiana               637482\n",
       "Delaware                637024\n",
       "South Carolina          636754\n",
       "Oregon                  636425\n",
       "Arkansas                636144\n",
       "Nevada                  636139\n",
       "New York                635983\n",
       "Montana                 635265\n",
       "South Dakota            633772\n",
       "Illinois                633024\n",
       "Hawaii                  632901\n",
       "Washington              632852\n",
       "Mississippi             632675\n",
       "Kentucky                632490\n",
       "Michigan                630928\n",
       "Florida                 629027\n",
       "Ohio                    628319\n",
       "Wisconsin               628108\n",
       "New Jersey              627692\n",
       "Indiana                 627282\n",
       "Maryland                626579\n",
       "Nebraska                625813\n",
       "Iowa                    625493\n",
       "Connecticut             623022\n",
       "Tennessee               617873\n",
       "New Hampshire           615378\n",
       "District of Columbia    613695\n",
       "West Virginia           612296\n",
       "Utah                    611941\n",
       "Vermont                 611725\n",
       "Idaho                   607119\n",
       "Name: count, dtype: int64"
      ]
     },
     "execution_count": 22,
     "metadata": {},
     "output_type": "execute_result"
    }
   ],
   "source": [
    "# Find each unique state present in dataframe\n",
    "df_c_o_p['state'].value_counts(dropna = False)"
   ]
  },
  {
   "cell_type": "markdown",
   "id": "73228b4d-4dca-4677-8646-1c706d0ca7c9",
   "metadata": {},
   "source": [
    "## Renaming States that in Northeast Region as NE\n"
   ]
  },
  {
   "cell_type": "code",
   "execution_count": 24,
   "id": "db292ec2-f96d-4fc3-be33-031872144591",
   "metadata": {},
   "outputs": [],
   "source": [
    "# Renaming states in the state columns present in Northeast region as NE\n",
    "df_c_o_p['state'] = df_c_o_p['state'].replace('Maine', 'NE')\n",
    "df_c_o_p['state'] = df_c_o_p['state'].replace('New Hampshire', 'NE')\n",
    "df_c_o_p['state'] = df_c_o_p['state'].replace('Vermont', 'NE')\n",
    "df_c_o_p['state'] = df_c_o_p['state'].replace('Massachusetts', 'NE')\n",
    "df_c_o_p['state'] = df_c_o_p['state'].replace('Rhode Island', 'NE')\n",
    "df_c_o_p['state'] = df_c_o_p['state'].replace('Connecticut', 'NE')\n",
    "df_c_o_p['state'] = df_c_o_p['state'].replace('New York', 'NE')\n",
    "df_c_o_p['state'] = df_c_o_p['state'].replace('Pennsylvania', 'NE')\n",
    "df_c_o_p['state'] = df_c_o_p['state'].replace('New Jersey', 'NE')"
   ]
  },
  {
   "cell_type": "code",
   "execution_count": 25,
   "id": "470fb00a-d96c-43eb-9256-bf0cd2ffc86e",
   "metadata": {},
   "outputs": [
    {
     "data": {
      "text/plain": [
       "state\n",
       "NE                      5722736\n",
       "California               659783\n",
       "Georgia                  656389\n",
       "New Mexico               654494\n",
       "Arizona                  653964\n",
       "North Carolina           651900\n",
       "Oklahoma                 651739\n",
       "Alaska                   648495\n",
       "Minnesota                647825\n",
       "Wyoming                  644255\n",
       "Virginia                 641421\n",
       "Missouri                 640732\n",
       "Texas                    640394\n",
       "Colorado                 639280\n",
       "North Dakota             638491\n",
       "Alabama                  638003\n",
       "Kansas                   637538\n",
       "Louisiana                637482\n",
       "Delaware                 637024\n",
       "South Carolina           636754\n",
       "Oregon                   636425\n",
       "Arkansas                 636144\n",
       "Nevada                   636139\n",
       "Montana                  635265\n",
       "South Dakota             633772\n",
       "Illinois                 633024\n",
       "Hawaii                   632901\n",
       "Washington               632852\n",
       "Mississippi              632675\n",
       "Kentucky                 632490\n",
       "Michigan                 630928\n",
       "Florida                  629027\n",
       "Ohio                     628319\n",
       "Wisconsin                628108\n",
       "Indiana                  627282\n",
       "Maryland                 626579\n",
       "Nebraska                 625813\n",
       "Iowa                     625493\n",
       "Tennessee                617873\n",
       "District of Columbia     613695\n",
       "West Virginia            612296\n",
       "Utah                     611941\n",
       "Idaho                    607119\n",
       "Name: count, dtype: int64"
      ]
     },
     "execution_count": 25,
     "metadata": {},
     "output_type": "execute_result"
    }
   ],
   "source": [
    "# Checking Output\n",
    "df_c_o_p['state'].value_counts(dropna = False)"
   ]
  },
  {
   "cell_type": "markdown",
   "id": "7b9e7bad-15ea-464b-a667-fa8495aa2028",
   "metadata": {},
   "source": [
    "All the states in above code have been successfully changed to NE"
   ]
  },
  {
   "cell_type": "markdown",
   "id": "f3a8be32-b6e3-4baf-adb6-ee2658da8925",
   "metadata": {},
   "source": [
    "## Renaming States in Midwest Region as MW"
   ]
  },
  {
   "cell_type": "code",
   "execution_count": 28,
   "id": "ff1fc841-46c0-4fe2-81fb-fdba9c064cea",
   "metadata": {},
   "outputs": [],
   "source": [
    "# Renaming states within the state column that are in MidWest region as MW\n",
    "df_c_o_p['state'] = df_c_o_p['state'].replace('Wisconsin', 'MW')\n",
    "df_c_o_p['state'] = df_c_o_p['state'].replace('Michigan', 'MW')\n",
    "df_c_o_p['state'] = df_c_o_p['state'].replace('Illinois', 'MW')\n",
    "df_c_o_p['state'] = df_c_o_p['state'].replace('Indiana', 'MW')\n",
    "df_c_o_p['state'] = df_c_o_p['state'].replace('Ohio', 'MW')\n",
    "df_c_o_p['state'] = df_c_o_p['state'].replace('North Dakota', 'MW')\n",
    "df_c_o_p['state'] = df_c_o_p['state'].replace('South Dakota', 'MW')\n",
    "df_c_o_p['state'] = df_c_o_p['state'].replace('Nebraska', 'MW')\n",
    "df_c_o_p['state'] = df_c_o_p['state'].replace('Kansas', 'MW')\n",
    "df_c_o_p['state'] = df_c_o_p['state'].replace('Minnesota', 'MW')\n",
    "df_c_o_p['state'] = df_c_o_p['state'].replace('Iowa', 'MW')\n",
    "df_c_o_p['state'] = df_c_o_p['state'].replace('Missouri', 'MW')"
   ]
  },
  {
   "cell_type": "code",
   "execution_count": 29,
   "id": "332f6b2b-1d76-44e2-a65f-57192a025b25",
   "metadata": {},
   "outputs": [
    {
     "data": {
      "text/plain": [
       "state\n",
       "MW                      7597325\n",
       "NE                      5722736\n",
       "California               659783\n",
       "Georgia                  656389\n",
       "New Mexico               654494\n",
       "Arizona                  653964\n",
       "North Carolina           651900\n",
       "Oklahoma                 651739\n",
       "Alaska                   648495\n",
       "Wyoming                  644255\n",
       "Virginia                 641421\n",
       "Texas                    640394\n",
       "Colorado                 639280\n",
       "Alabama                  638003\n",
       "Louisiana                637482\n",
       "Delaware                 637024\n",
       "South Carolina           636754\n",
       "Oregon                   636425\n",
       "Arkansas                 636144\n",
       "Nevada                   636139\n",
       "Montana                  635265\n",
       "Hawaii                   632901\n",
       "Washington               632852\n",
       "Mississippi              632675\n",
       "Kentucky                 632490\n",
       "Florida                  629027\n",
       "Maryland                 626579\n",
       "Tennessee                617873\n",
       "District of Columbia     613695\n",
       "West Virginia            612296\n",
       "Utah                     611941\n",
       "Idaho                    607119\n",
       "Name: count, dtype: int64"
      ]
     },
     "execution_count": 29,
     "metadata": {},
     "output_type": "execute_result"
    }
   ],
   "source": [
    "# Checking output\n",
    "df_c_o_p['state'].value_counts(dropna = False)"
   ]
  },
  {
   "cell_type": "markdown",
   "id": "0207395f-d993-4ed8-887b-6f1d5b4af826",
   "metadata": {},
   "source": [
    "All states in above code have been successfully changed to MW"
   ]
  },
  {
   "cell_type": "markdown",
   "id": "672e4d64-b5e9-4729-bf58-088a19417703",
   "metadata": {},
   "source": [
    "## Renaming States in South Region as S"
   ]
  },
  {
   "cell_type": "code",
   "execution_count": 32,
   "id": "ea30e681-4ec0-4a10-8b24-b8812613270f",
   "metadata": {},
   "outputs": [],
   "source": [
    "# Renaming states within the state column in the South Region as S\n",
    "df_c_o_p['state'] = df_c_o_p['state'].replace('Delaware', 'S')\n",
    "df_c_o_p['state'] = df_c_o_p['state'].replace('Maryland', 'S')\n",
    "df_c_o_p['state'] = df_c_o_p['state'].replace('District of Columbia', 'S')\n",
    "df_c_o_p['state'] = df_c_o_p['state'].replace('Virginia', 'S')\n",
    "df_c_o_p['state'] = df_c_o_p['state'].replace('West Virginia', 'S')\n",
    "df_c_o_p['state'] = df_c_o_p['state'].replace('North Carolina', 'S')\n",
    "df_c_o_p['state'] = df_c_o_p['state'].replace('South Carolina', 'S')\n",
    "df_c_o_p['state'] = df_c_o_p['state'].replace('Georgia', 'S')\n",
    "df_c_o_p['state'] = df_c_o_p['state'].replace('Florida', 'S')\n",
    "df_c_o_p['state'] = df_c_o_p['state'].replace('Kentucky', 'S')\n",
    "df_c_o_p['state'] = df_c_o_p['state'].replace('Tennessee', 'S')\n",
    "df_c_o_p['state'] = df_c_o_p['state'].replace('Mississippi', 'S')\n",
    "df_c_o_p['state'] = df_c_o_p['state'].replace('Alabama', 'S')\n",
    "df_c_o_p['state'] = df_c_o_p['state'].replace('Oklahoma', 'S')\n",
    "df_c_o_p['state'] = df_c_o_p['state'].replace('Texas', 'S')\n",
    "df_c_o_p['state'] = df_c_o_p['state'].replace('Arkansas', 'S')\n",
    "df_c_o_p['state'] = df_c_o_p['state'].replace('Louisiana', 'S')"
   ]
  },
  {
   "cell_type": "code",
   "execution_count": 33,
   "id": "7ebc3d0d-f842-4891-bc23-23ef511eeaed",
   "metadata": {},
   "outputs": [
    {
     "data": {
      "text/plain": [
       "state\n",
       "S             10791885\n",
       "MW             7597325\n",
       "NE             5722736\n",
       "California      659783\n",
       "New Mexico      654494\n",
       "Arizona         653964\n",
       "Alaska          648495\n",
       "Wyoming         644255\n",
       "Colorado        639280\n",
       "Oregon          636425\n",
       "Nevada          636139\n",
       "Montana         635265\n",
       "Hawaii          632901\n",
       "Washington      632852\n",
       "Utah            611941\n",
       "Idaho           607119\n",
       "Name: count, dtype: int64"
      ]
     },
     "execution_count": 33,
     "metadata": {},
     "output_type": "execute_result"
    }
   ],
   "source": [
    "# Checking output\n",
    "df_c_o_p['state'].value_counts(dropna = False)"
   ]
  },
  {
   "cell_type": "markdown",
   "id": "f3a1a082-48b8-4308-8da4-3d57cd36a990",
   "metadata": {},
   "source": [
    "All states in above code have been successfully changed to S"
   ]
  },
  {
   "cell_type": "markdown",
   "id": "47c562a7-06f0-49b7-b00f-5683b69c5913",
   "metadata": {},
   "source": [
    "## Renaming States in West Region as W"
   ]
  },
  {
   "cell_type": "code",
   "execution_count": 36,
   "id": "ed4fba7d-f868-49fa-8211-b1b27d955c49",
   "metadata": {},
   "outputs": [],
   "source": [
    "# Renaming states in state column that are in the West Region as W\n",
    "df_c_o_p['state'] = df_c_o_p['state'].replace('Idaho', 'W')\n",
    "df_c_o_p['state'] = df_c_o_p['state'].replace('Montana', 'W')\n",
    "df_c_o_p['state'] = df_c_o_p['state'].replace('Wyoming', 'W')\n",
    "df_c_o_p['state'] = df_c_o_p['state'].replace('Nevada', 'W')\n",
    "df_c_o_p['state'] = df_c_o_p['state'].replace('Utah', 'W')\n",
    "df_c_o_p['state'] = df_c_o_p['state'].replace('Colorado', 'W')\n",
    "df_c_o_p['state'] = df_c_o_p['state'].replace('Arizona', 'W')\n",
    "df_c_o_p['state'] = df_c_o_p['state'].replace('New Mexico', 'W')\n",
    "df_c_o_p['state'] = df_c_o_p['state'].replace('Alaska', 'W')\n",
    "df_c_o_p['state'] = df_c_o_p['state'].replace('Washington', 'W')\n",
    "df_c_o_p['state'] = df_c_o_p['state'].replace('Oregon', 'W')\n",
    "df_c_o_p['state'] = df_c_o_p['state'].replace('California', 'W')\n",
    "df_c_o_p['state'] = df_c_o_p['state'].replace('Hawaii', 'W')"
   ]
  },
  {
   "cell_type": "code",
   "execution_count": 37,
   "id": "0baf1230-2ba9-452b-8380-073d0067d841",
   "metadata": {},
   "outputs": [
    {
     "data": {
      "text/plain": [
       "state\n",
       "S     10791885\n",
       "W      8292913\n",
       "MW     7597325\n",
       "NE     5722736\n",
       "Name: count, dtype: int64"
      ]
     },
     "execution_count": 37,
     "metadata": {},
     "output_type": "execute_result"
    }
   ],
   "source": [
    "# Checking output\n",
    "df_c_o_p['state'].value_counts(dropna = False)"
   ]
  },
  {
   "cell_type": "markdown",
   "id": "636cde92-dd05-4d41-aa0c-c8f94af49649",
   "metadata": {},
   "source": [
    "All states in above code have been successfully changed to S"
   ]
  },
  {
   "cell_type": "markdown",
   "id": "7b6e589d-8524-47d6-98de-c0b9527ff1e7",
   "metadata": {},
   "source": [
    "## Renaming State Column as Region"
   ]
  },
  {
   "cell_type": "code",
   "execution_count": 40,
   "id": "f465dcfc-c978-4194-92c1-52f3511722ad",
   "metadata": {},
   "outputs": [],
   "source": [
    "# Changing name of column 'state' to 'region'\n",
    "df_c_o_p.rename(columns={'state': 'region'}, inplace=True)"
   ]
  },
  {
   "cell_type": "code",
   "execution_count": 41,
   "id": "8136edeb-5204-4956-a1f6-dfdcd32eab1f",
   "metadata": {},
   "outputs": [
    {
     "data": {
      "text/plain": [
       "region\n",
       "S     10791885\n",
       "W      8292913\n",
       "MW     7597325\n",
       "NE     5722736\n",
       "Name: count, dtype: int64"
      ]
     },
     "execution_count": 41,
     "metadata": {},
     "output_type": "execute_result"
    }
   ],
   "source": [
    "# Checking output\n",
    "df_c_o_p['region'].value_counts(dropna = False)"
   ]
  },
  {
   "cell_type": "markdown",
   "id": "40e46615-f7e3-41a5-87bf-9a24ea2b7fc1",
   "metadata": {},
   "source": [
    "'state' column successfully renamed to 'region'"
   ]
  },
  {
   "cell_type": "markdown",
   "id": "fc961e22-260c-46f8-a26c-038913403019",
   "metadata": {},
   "source": [
    "## Spending Habits by Region"
   ]
  },
  {
   "cell_type": "code",
   "execution_count": 44,
   "id": "f8a0c71f-da47-424a-a4a6-6047dda7600a",
   "metadata": {},
   "outputs": [],
   "source": [
    "# Creating new df called spending_habits containing the average user_mean_price by region\n",
    "spending_habits = df_c_o_p.groupby('region').agg({'user_mean_price': 'mean'})"
   ]
  },
  {
   "cell_type": "code",
   "execution_count": 45,
   "id": "1e65ed7d-2425-4adc-a8a5-dda9f6e0d95c",
   "metadata": {},
   "outputs": [
    {
     "data": {
      "text/html": [
       "<div>\n",
       "<style scoped>\n",
       "    .dataframe tbody tr th:only-of-type {\n",
       "        vertical-align: middle;\n",
       "    }\n",
       "\n",
       "    .dataframe tbody tr th {\n",
       "        vertical-align: top;\n",
       "    }\n",
       "\n",
       "    .dataframe thead th {\n",
       "        text-align: right;\n",
       "    }\n",
       "</style>\n",
       "<table border=\"1\" class=\"dataframe\">\n",
       "  <thead>\n",
       "    <tr style=\"text-align: right;\">\n",
       "      <th></th>\n",
       "      <th>user_mean_price</th>\n",
       "    </tr>\n",
       "    <tr>\n",
       "      <th>region</th>\n",
       "      <th></th>\n",
       "    </tr>\n",
       "  </thead>\n",
       "  <tbody>\n",
       "    <tr>\n",
       "      <th>MW</th>\n",
       "      <td>9.832522</td>\n",
       "    </tr>\n",
       "    <tr>\n",
       "      <th>NE</th>\n",
       "      <td>9.702281</td>\n",
       "    </tr>\n",
       "    <tr>\n",
       "      <th>S</th>\n",
       "      <td>9.924853</td>\n",
       "    </tr>\n",
       "    <tr>\n",
       "      <th>W</th>\n",
       "      <td>9.775830</td>\n",
       "    </tr>\n",
       "  </tbody>\n",
       "</table>\n",
       "</div>"
      ],
      "text/plain": [
       "        user_mean_price\n",
       "region                 \n",
       "MW             9.832522\n",
       "NE             9.702281\n",
       "S              9.924853\n",
       "W              9.775830"
      ]
     },
     "execution_count": 45,
     "metadata": {},
     "output_type": "execute_result"
    }
   ],
   "source": [
    "# Checking Output\n",
    "spending_habits"
   ]
  },
  {
   "cell_type": "markdown",
   "id": "cdbbf648-231d-434b-91f0-3246e282bcc2",
   "metadata": {},
   "source": [
    "Observation:\n",
    "\n",
    "When Regions are grouped by the Average 'user_mean_price' we can see the order from highest to lowest being S > MW > W > NE. "
   ]
  },
  {
   "cell_type": "markdown",
   "id": "d291cf73-7c1c-4463-8cb7-dba9278b9f85",
   "metadata": {},
   "source": [
    "# 05 Excluding Flag"
   ]
  },
  {
   "cell_type": "markdown",
   "id": "45c78206-0606-4181-9fc8-82466b9ef117",
   "metadata": {},
   "source": [
    "The Instacart CFO isn’t interested in customers who don’t generate much revenue for the app. Create an exclusion flag for low-activity customers (customers with less than 5 orders) and exclude them from the data. Make sure you export this sample."
   ]
  },
  {
   "cell_type": "markdown",
   "id": "3c2de360-c31b-459b-844c-1130c67e7c3d",
   "metadata": {},
   "source": [
    "## Create Dataframe with Count of Orders per User ID"
   ]
  },
  {
   "cell_type": "code",
   "execution_count": 50,
   "id": "4f9d0ae0-3b7e-4dd1-bdb9-ac8935258e29",
   "metadata": {},
   "outputs": [],
   "source": [
    "# Create new dataframe with count of orders per user_id\n",
    "order_counts = df_c_o_p.groupby('user_id')['order_id'].count().reset_index()"
   ]
  },
  {
   "cell_type": "code",
   "execution_count": 51,
   "id": "6ff2568d-358f-4b23-8ab1-3cc9630fbf67",
   "metadata": {},
   "outputs": [
    {
     "data": {
      "text/html": [
       "<div>\n",
       "<style scoped>\n",
       "    .dataframe tbody tr th:only-of-type {\n",
       "        vertical-align: middle;\n",
       "    }\n",
       "\n",
       "    .dataframe tbody tr th {\n",
       "        vertical-align: top;\n",
       "    }\n",
       "\n",
       "    .dataframe thead th {\n",
       "        text-align: right;\n",
       "    }\n",
       "</style>\n",
       "<table border=\"1\" class=\"dataframe\">\n",
       "  <thead>\n",
       "    <tr style=\"text-align: right;\">\n",
       "      <th></th>\n",
       "      <th>user_id</th>\n",
       "      <th>order_id</th>\n",
       "    </tr>\n",
       "  </thead>\n",
       "  <tbody>\n",
       "    <tr>\n",
       "      <th>0</th>\n",
       "      <td>1</td>\n",
       "      <td>59</td>\n",
       "    </tr>\n",
       "    <tr>\n",
       "      <th>1</th>\n",
       "      <td>10</td>\n",
       "      <td>143</td>\n",
       "    </tr>\n",
       "    <tr>\n",
       "      <th>2</th>\n",
       "      <td>100</td>\n",
       "      <td>27</td>\n",
       "    </tr>\n",
       "    <tr>\n",
       "      <th>3</th>\n",
       "      <td>1000</td>\n",
       "      <td>103</td>\n",
       "    </tr>\n",
       "    <tr>\n",
       "      <th>4</th>\n",
       "      <td>10000</td>\n",
       "      <td>1092</td>\n",
       "    </tr>\n",
       "    <tr>\n",
       "      <th>...</th>\n",
       "      <td>...</td>\n",
       "      <td>...</td>\n",
       "    </tr>\n",
       "    <tr>\n",
       "      <th>206204</th>\n",
       "      <td>99995</td>\n",
       "      <td>50</td>\n",
       "    </tr>\n",
       "    <tr>\n",
       "      <th>206205</th>\n",
       "      <td>99996</td>\n",
       "      <td>128</td>\n",
       "    </tr>\n",
       "    <tr>\n",
       "      <th>206206</th>\n",
       "      <td>99997</td>\n",
       "      <td>36</td>\n",
       "    </tr>\n",
       "    <tr>\n",
       "      <th>206207</th>\n",
       "      <td>99998</td>\n",
       "      <td>21</td>\n",
       "    </tr>\n",
       "    <tr>\n",
       "      <th>206208</th>\n",
       "      <td>99999</td>\n",
       "      <td>329</td>\n",
       "    </tr>\n",
       "  </tbody>\n",
       "</table>\n",
       "<p>206209 rows × 2 columns</p>\n",
       "</div>"
      ],
      "text/plain": [
       "       user_id  order_id\n",
       "0            1        59\n",
       "1           10       143\n",
       "2          100        27\n",
       "3         1000       103\n",
       "4        10000      1092\n",
       "...        ...       ...\n",
       "206204   99995        50\n",
       "206205   99996       128\n",
       "206206   99997        36\n",
       "206207   99998        21\n",
       "206208   99999       329\n",
       "\n",
       "[206209 rows x 2 columns]"
      ]
     },
     "execution_count": 51,
     "metadata": {},
     "output_type": "execute_result"
    }
   ],
   "source": [
    "# Checking output\n",
    "order_counts"
   ]
  },
  {
   "cell_type": "code",
   "execution_count": 52,
   "id": "9b9c3891-d8ba-426c-9a25-15c5894f0a40",
   "metadata": {},
   "outputs": [],
   "source": [
    "# Rename column created in new dataframe from order_id to order_count\n",
    "order_counts.rename(columns={'order_id': 'order_count'}, inplace=True)"
   ]
  },
  {
   "cell_type": "code",
   "execution_count": 53,
   "id": "482fb788-82b3-4ef0-84c7-9dbdbde4a525",
   "metadata": {},
   "outputs": [
    {
     "data": {
      "text/html": [
       "<div>\n",
       "<style scoped>\n",
       "    .dataframe tbody tr th:only-of-type {\n",
       "        vertical-align: middle;\n",
       "    }\n",
       "\n",
       "    .dataframe tbody tr th {\n",
       "        vertical-align: top;\n",
       "    }\n",
       "\n",
       "    .dataframe thead th {\n",
       "        text-align: right;\n",
       "    }\n",
       "</style>\n",
       "<table border=\"1\" class=\"dataframe\">\n",
       "  <thead>\n",
       "    <tr style=\"text-align: right;\">\n",
       "      <th></th>\n",
       "      <th>user_id</th>\n",
       "      <th>order_count</th>\n",
       "    </tr>\n",
       "  </thead>\n",
       "  <tbody>\n",
       "    <tr>\n",
       "      <th>0</th>\n",
       "      <td>1</td>\n",
       "      <td>59</td>\n",
       "    </tr>\n",
       "    <tr>\n",
       "      <th>1</th>\n",
       "      <td>10</td>\n",
       "      <td>143</td>\n",
       "    </tr>\n",
       "    <tr>\n",
       "      <th>2</th>\n",
       "      <td>100</td>\n",
       "      <td>27</td>\n",
       "    </tr>\n",
       "    <tr>\n",
       "      <th>3</th>\n",
       "      <td>1000</td>\n",
       "      <td>103</td>\n",
       "    </tr>\n",
       "    <tr>\n",
       "      <th>4</th>\n",
       "      <td>10000</td>\n",
       "      <td>1092</td>\n",
       "    </tr>\n",
       "    <tr>\n",
       "      <th>...</th>\n",
       "      <td>...</td>\n",
       "      <td>...</td>\n",
       "    </tr>\n",
       "    <tr>\n",
       "      <th>206204</th>\n",
       "      <td>99995</td>\n",
       "      <td>50</td>\n",
       "    </tr>\n",
       "    <tr>\n",
       "      <th>206205</th>\n",
       "      <td>99996</td>\n",
       "      <td>128</td>\n",
       "    </tr>\n",
       "    <tr>\n",
       "      <th>206206</th>\n",
       "      <td>99997</td>\n",
       "      <td>36</td>\n",
       "    </tr>\n",
       "    <tr>\n",
       "      <th>206207</th>\n",
       "      <td>99998</td>\n",
       "      <td>21</td>\n",
       "    </tr>\n",
       "    <tr>\n",
       "      <th>206208</th>\n",
       "      <td>99999</td>\n",
       "      <td>329</td>\n",
       "    </tr>\n",
       "  </tbody>\n",
       "</table>\n",
       "<p>206209 rows × 2 columns</p>\n",
       "</div>"
      ],
      "text/plain": [
       "       user_id  order_count\n",
       "0            1           59\n",
       "1           10          143\n",
       "2          100           27\n",
       "3         1000          103\n",
       "4        10000         1092\n",
       "...        ...          ...\n",
       "206204   99995           50\n",
       "206205   99996          128\n",
       "206206   99997           36\n",
       "206207   99998           21\n",
       "206208   99999          329\n",
       "\n",
       "[206209 rows x 2 columns]"
      ]
     },
     "execution_count": 53,
     "metadata": {},
     "output_type": "execute_result"
    }
   ],
   "source": [
    "# Checking output\n",
    "order_counts"
   ]
  },
  {
   "cell_type": "markdown",
   "id": "c2ba120b-0026-46fe-b6a3-cf961a038bfe",
   "metadata": {},
   "source": [
    "## Create the Exclusion Flag"
   ]
  },
  {
   "cell_type": "code",
   "execution_count": 55,
   "id": "1d92a692-6bcb-4532-a519-3146664b570a",
   "metadata": {},
   "outputs": [],
   "source": [
    "# Creating Exclusion flag for customers with under 5 orders\n",
    "order_counts['low_activity'] = order_counts['order_count'] < 5"
   ]
  },
  {
   "cell_type": "code",
   "execution_count": 56,
   "id": "862d57a7-e9f7-451f-affa-ec44948005e8",
   "metadata": {},
   "outputs": [
    {
     "data": {
      "text/plain": [
       "low_activity\n",
       "False    205410\n",
       "True        799\n",
       "Name: count, dtype: int64"
      ]
     },
     "execution_count": 56,
     "metadata": {},
     "output_type": "execute_result"
    }
   ],
   "source": [
    "# Checking Output\n",
    "order_counts['low_activity'].value_counts(dropna = False)"
   ]
  },
  {
   "cell_type": "code",
   "execution_count": 57,
   "id": "4cc02a05-4944-474f-97ac-1691bdc2eb0e",
   "metadata": {},
   "outputs": [],
   "source": [
    "# Creating Dataframe to use as filter contating only low_activity and user_id from order_counts dataframe\n",
    "low_activity_users = order_counts[order_counts['low_activity']]['user_id']"
   ]
  },
  {
   "cell_type": "code",
   "execution_count": 58,
   "id": "800150e4-0016-424c-b5ae-3a8ee3ed4d4c",
   "metadata": {},
   "outputs": [
    {
     "data": {
      "text/plain": [
       "170        10015\n",
       "675       100604\n",
       "1014       10091\n",
       "1084      100973\n",
       "1486      101334\n",
       "           ...  \n",
       "205154     99049\n",
       "205427     99295\n",
       "205495     99356\n",
       "205845     99671\n",
       "205948     99764\n",
       "Name: user_id, Length: 799, dtype: object"
      ]
     },
     "execution_count": 58,
     "metadata": {},
     "output_type": "execute_result"
    }
   ],
   "source": [
    "# Checking output\n",
    "low_activity_users"
   ]
  },
  {
   "cell_type": "markdown",
   "id": "656dc440-852f-462d-9c21-f9917f6c8dbb",
   "metadata": {},
   "source": [
    "Length matches with the True count of our Exclusion Flag so it is correct"
   ]
  },
  {
   "cell_type": "code",
   "execution_count": 60,
   "id": "c88692a8-e57e-4cc8-939b-871c4f32cef6",
   "metadata": {},
   "outputs": [],
   "source": [
    "# Filtering df_c_o_p with our Exclusion Flag to create new dataframe\n",
    "filtered_df = df_c_o_p[~df_c_o_p['user_id'].isin(low_activity_users)]"
   ]
  },
  {
   "cell_type": "markdown",
   "id": "5a8c68dc-68e9-4809-ae14-4c6a44f6837e",
   "metadata": {},
   "source": [
    " the '~' being used on boolean (our exclusion flag) turns all false statements as true, and all the true statements as false this will allow us to keep all the true which in this case are customers with 5 or more orders"
   ]
  },
  {
   "cell_type": "code",
   "execution_count": 201,
   "id": "a4648d85-e497-44bb-b0d8-24df142bebfa",
   "metadata": {},
   "outputs": [
    {
     "data": {
      "text/plain": [
       "(32401975, 30)"
      ]
     },
     "execution_count": 201,
     "metadata": {},
     "output_type": "execute_result"
    }
   ],
   "source": [
    "filtered_df.shape"
   ]
  },
  {
   "cell_type": "markdown",
   "id": "2db325d4-0105-4da3-95c9-8ccf593dd9f0",
   "metadata": {},
   "source": [
    "## Export Filtered Dataframe"
   ]
  },
  {
   "cell_type": "code",
   "execution_count": 63,
   "id": "fc9be975-8818-4ed3-bce5-b5140a678f9a",
   "metadata": {},
   "outputs": [],
   "source": [
    "filtered_df.to_csv(os.path.join(path, 'customers_orders_products_filtered'))"
   ]
  },
  {
   "cell_type": "markdown",
   "id": "629b6da7-6bad-4e34-85a0-19e189e82920",
   "metadata": {},
   "source": [
    "# 06 Creating Customer Profiles"
   ]
  },
  {
   "cell_type": "markdown",
   "id": "f3485cdf-641f-47d3-b8e8-c2cbf59f581f",
   "metadata": {},
   "source": [
    "## Creating and Applying Function"
   ]
  },
  {
   "cell_type": "code",
   "execution_count": 122,
   "id": "0f30c7e9-5750-4b96-a9ec-a614492c4560",
   "metadata": {},
   "outputs": [],
   "source": [
    "# Create a function to assign customer profiles\n",
    "def assign_profile(row):\n",
    "    if row['number_of_dependants'] == 0 and 18 <= row['age'] <= 81:\n",
    "        return 'Single Adult'\n",
    "    elif 18 <= row['age'] <= 30 and 1 <= row['number_of_dependants'] <= 3:\n",
    "        return 'Young Parent'\n",
    "    elif 31 <= row['age'] <= 50 and 1 <= row['number_of_dependants'] <= 3:\n",
    "        return 'Average Parent'\n",
    "    elif 51 <= row['age'] <= 81 and 1<= row['number_of_dependants'] <= 3:\n",
    "        return 'Old Parent'\n",
    "    elif row['income'] < 40000:\n",
    "        return 'Budget Shopper'\n",
    "    else:\n",
    "        return 'Average Shopper'\n",
    "    "
   ]
  },
  {
   "cell_type": "code",
   "execution_count": 124,
   "id": "0995f439-d894-4bbc-9ed7-49d2f4bc4f00",
   "metadata": {},
   "outputs": [],
   "source": [
    "# Applying created function to create a new column with customer profile\n",
    "df_c_o_p['customer_profile'] = df_c_o_p.apply(assign_profile, axis=1)"
   ]
  },
  {
   "cell_type": "code",
   "execution_count": 126,
   "id": "0986fdd9-93b5-4d9b-b425-ad3e258503bd",
   "metadata": {},
   "outputs": [
    {
     "data": {
      "text/plain": [
       "customer_profile\n",
       "Old Parent        11704949\n",
       "Single Adult       8097503\n",
       "Average Parent     7647337\n",
       "Young Parent       4955070\n",
       "Name: count, dtype: int64"
      ]
     },
     "execution_count": 126,
     "metadata": {},
     "output_type": "execute_result"
    }
   ],
   "source": [
    "# Output Check\n",
    "df_c_o_p['customer_profile'].value_counts(dropna = False)"
   ]
  },
  {
   "cell_type": "markdown",
   "id": "462be016-4f81-4bdc-96a6-7f73083df9f2",
   "metadata": {},
   "source": [
    "## Visualization Creation"
   ]
  },
  {
   "cell_type": "code",
   "execution_count": 128,
   "id": "4eadedd5-899d-47ce-afdc-2af028ffbbb9",
   "metadata": {},
   "outputs": [],
   "source": [
    "# Creating dataframe for the count of each customer profile\n",
    "profile_counts = df_c_o_p['customer_profile'].value_counts()"
   ]
  },
  {
   "cell_type": "code",
   "execution_count": 130,
   "id": "1ec2ca10-69de-4a93-85eb-4ab1726d4d81",
   "metadata": {},
   "outputs": [
    {
     "data": {
      "text/plain": [
       "customer_profile\n",
       "Old Parent        11704949\n",
       "Single Adult       8097503\n",
       "Average Parent     7647337\n",
       "Young Parent       4955070\n",
       "Name: count, dtype: int64"
      ]
     },
     "execution_count": 130,
     "metadata": {},
     "output_type": "execute_result"
    }
   ],
   "source": [
    "# Checking output\n",
    "profile_counts"
   ]
  },
  {
   "cell_type": "code",
   "execution_count": 231,
   "id": "9d9f5453-91a5-41b5-bb1b-c53e3f566a02",
   "metadata": {},
   "outputs": [
    {
     "data": {
      "text/plain": [
       "(array([0, 1, 2, 3]),\n",
       " [Text(0, 0, 'Old Parent'),\n",
       "  Text(1, 0, 'Single Adult'),\n",
       "  Text(2, 0, 'Average Parent'),\n",
       "  Text(3, 0, 'Young Parent')])"
      ]
     },
     "execution_count": 231,
     "metadata": {},
     "output_type": "execute_result"
    },
    {
     "data": {
      "image/png": "[encoded data removed]",
      "text/plain": [
       "<Figure size 640x480 with 1 Axes>"
      ]
     },
     "metadata": {},
     "output_type": "display_data"
    }
   ],
   "source": [
    "# Creating Bar for profile counts\n",
    "bar = profile_counts.plot.bar(color=['blue', 'red', 'green', 'orange', 'purple'], alpha=0.5)\n",
    "\n",
    "# Creating Labels\n",
    "plt.title('Customer Profile Distribution')\n",
    "plt.xlabel('Customer Profile')\n",
    "plt.ylabel('Frequency')\n",
    "plt.xticks(rotation=0)  "
   ]
  },
  {
   "cell_type": "markdown",
   "id": "62dd7df2-9b8e-4e06-9a34-253ddce20840",
   "metadata": {},
   "source": [
    "## Exoprt Bar Graph"
   ]
  },
  {
   "cell_type": "markdown",
   "id": "b8ae1f2a-f266-4f10-b779-1fb2de2e6ead",
   "metadata": {},
   "source": []
  },
  {
   "cell_type": "markdown",
   "id": "a6620a8c-c912-41dd-901b-bb211971887d",
   "metadata": {},
   "source": [
    "## Creathing path for Visualization"
   ]
  },
  {
   "cell_type": "code",
   "execution_count": 134,
   "id": "b08aa3f7-c1f1-46ae-a803-3f67edb82cc6",
   "metadata": {},
   "outputs": [],
   "source": [
    "# Creating Path\n",
    "path2 = r'/Users/Andreas/Desktop/13-02-2025 Instacart Basket Analysis/04 Analysis/Visualizations'"
   ]
  },
  {
   "cell_type": "code",
   "execution_count": 136,
   "id": "1e6f516a-2d1b-437b-9267-8f99e4f0fb72",
   "metadata": {},
   "outputs": [
    {
     "data": {
      "text/plain": [
       "'/Users/Andreas/Desktop/13-02-2025 Instacart Basket Analysis/04 Analysis/Visualizations'"
      ]
     },
     "execution_count": 136,
     "metadata": {},
     "output_type": "execute_result"
    }
   ],
   "source": [
    "# Testing Path\n",
    "path2"
   ]
  },
  {
   "cell_type": "code",
   "execution_count": 233,
   "id": "80aef314-6a53-4554-8a5b-856b9e19546b",
   "metadata": {},
   "outputs": [],
   "source": [
    "bar.figure.savefig(os.path.join(path2, 'bar_customer_profile_distribution.png'))"
   ]
  },
  {
   "cell_type": "markdown",
   "id": "e4f5c61a-62be-48e8-9185-00ad6ac6e3d1",
   "metadata": {},
   "source": [
    "# 07 Aggregate the max, mean, and min variables on a customer-profile level for usage frequency and expenditure."
   ]
  },
  {
   "cell_type": "code",
   "execution_count": 89,
   "id": "5eb2e0bc-e4a4-4892-9a15-a9da3adaf6d1",
   "metadata": {},
   "outputs": [],
   "source": [
    "# Calculate total expenditure by order_id\n",
    "total_expenditure_per_order = df_c_o_p.groupby('order_id')['prices'].sum().reset_index()\n",
    "total_expenditure_per_order.rename(columns={'prices': 'total_expenditure'}, inplace=True)"
   ]
  },
  {
   "cell_type": "code",
   "execution_count": 93,
   "id": "a13bd598-2ba0-49cd-885c-9c27874490ef",
   "metadata": {},
   "outputs": [
    {
     "data": {
      "text/html": [
       "<div>\n",
       "<style scoped>\n",
       "    .dataframe tbody tr th:only-of-type {\n",
       "        vertical-align: middle;\n",
       "    }\n",
       "\n",
       "    .dataframe tbody tr th {\n",
       "        vertical-align: top;\n",
       "    }\n",
       "\n",
       "    .dataframe thead th {\n",
       "        text-align: right;\n",
       "    }\n",
       "</style>\n",
       "<table border=\"1\" class=\"dataframe\">\n",
       "  <thead>\n",
       "    <tr style=\"text-align: right;\">\n",
       "      <th></th>\n",
       "      <th>order_id</th>\n",
       "      <th>total_expenditure</th>\n",
       "    </tr>\n",
       "  </thead>\n",
       "  <tbody>\n",
       "    <tr>\n",
       "      <th>0</th>\n",
       "      <td>10</td>\n",
       "      <td>132.796875</td>\n",
       "    </tr>\n",
       "    <tr>\n",
       "      <th>1</th>\n",
       "      <td>100</td>\n",
       "      <td>11.000000</td>\n",
       "    </tr>\n",
       "    <tr>\n",
       "      <th>2</th>\n",
       "      <td>1000</td>\n",
       "      <td>33.602539</td>\n",
       "    </tr>\n",
       "    <tr>\n",
       "      <th>3</th>\n",
       "      <td>10000</td>\n",
       "      <td>125.695312</td>\n",
       "    </tr>\n",
       "    <tr>\n",
       "      <th>4</th>\n",
       "      <td>1000000</td>\n",
       "      <td>35.093750</td>\n",
       "    </tr>\n",
       "    <tr>\n",
       "      <th>...</th>\n",
       "      <td>...</td>\n",
       "      <td>...</td>\n",
       "    </tr>\n",
       "    <tr>\n",
       "      <th>3214680</th>\n",
       "      <td>999995</td>\n",
       "      <td>12.101562</td>\n",
       "    </tr>\n",
       "    <tr>\n",
       "      <th>3214681</th>\n",
       "      <td>999996</td>\n",
       "      <td>62.996094</td>\n",
       "    </tr>\n",
       "    <tr>\n",
       "      <th>3214682</th>\n",
       "      <td>999997</td>\n",
       "      <td>127.700195</td>\n",
       "    </tr>\n",
       "    <tr>\n",
       "      <th>3214683</th>\n",
       "      <td>999998</td>\n",
       "      <td>115.507812</td>\n",
       "    </tr>\n",
       "    <tr>\n",
       "      <th>3214684</th>\n",
       "      <td>999999</td>\n",
       "      <td>59.000000</td>\n",
       "    </tr>\n",
       "  </tbody>\n",
       "</table>\n",
       "<p>3214685 rows × 2 columns</p>\n",
       "</div>"
      ],
      "text/plain": [
       "        order_id  total_expenditure\n",
       "0             10         132.796875\n",
       "1            100          11.000000\n",
       "2           1000          33.602539\n",
       "3          10000         125.695312\n",
       "4        1000000          35.093750\n",
       "...          ...                ...\n",
       "3214680   999995          12.101562\n",
       "3214681   999996          62.996094\n",
       "3214682   999997         127.700195\n",
       "3214683   999998         115.507812\n",
       "3214684   999999          59.000000\n",
       "\n",
       "[3214685 rows x 2 columns]"
      ]
     },
     "execution_count": 93,
     "metadata": {},
     "output_type": "execute_result"
    }
   ],
   "source": [
    "# Checking output\n",
    "total_expenditure_per_order"
   ]
  },
  {
   "cell_type": "code",
   "execution_count": 95,
   "id": "e55a0ece-05de-4c35-9297-b90c41a74390",
   "metadata": {},
   "outputs": [],
   "source": [
    "# Count the number of orders by user_id (usage frequency)\n",
    "usage_frequency_per_user = df_c_o_p.groupby('user_id')['order_id'].count().reset_index()\n",
    "usage_frequency_per_user.rename(columns={'order_id': 'usage_frequency'}, inplace=True)"
   ]
  },
  {
   "cell_type": "code",
   "execution_count": 97,
   "id": "7ebce4f7-cfa9-4192-bd6b-dfa131e792ab",
   "metadata": {},
   "outputs": [
    {
     "data": {
      "text/html": [
       "<div>\n",
       "<style scoped>\n",
       "    .dataframe tbody tr th:only-of-type {\n",
       "        vertical-align: middle;\n",
       "    }\n",
       "\n",
       "    .dataframe tbody tr th {\n",
       "        vertical-align: top;\n",
       "    }\n",
       "\n",
       "    .dataframe thead th {\n",
       "        text-align: right;\n",
       "    }\n",
       "</style>\n",
       "<table border=\"1\" class=\"dataframe\">\n",
       "  <thead>\n",
       "    <tr style=\"text-align: right;\">\n",
       "      <th></th>\n",
       "      <th>user_id</th>\n",
       "      <th>usage_frequency</th>\n",
       "    </tr>\n",
       "  </thead>\n",
       "  <tbody>\n",
       "    <tr>\n",
       "      <th>0</th>\n",
       "      <td>1</td>\n",
       "      <td>59</td>\n",
       "    </tr>\n",
       "    <tr>\n",
       "      <th>1</th>\n",
       "      <td>10</td>\n",
       "      <td>143</td>\n",
       "    </tr>\n",
       "    <tr>\n",
       "      <th>2</th>\n",
       "      <td>100</td>\n",
       "      <td>27</td>\n",
       "    </tr>\n",
       "    <tr>\n",
       "      <th>3</th>\n",
       "      <td>1000</td>\n",
       "      <td>103</td>\n",
       "    </tr>\n",
       "    <tr>\n",
       "      <th>4</th>\n",
       "      <td>10000</td>\n",
       "      <td>1092</td>\n",
       "    </tr>\n",
       "    <tr>\n",
       "      <th>...</th>\n",
       "      <td>...</td>\n",
       "      <td>...</td>\n",
       "    </tr>\n",
       "    <tr>\n",
       "      <th>206204</th>\n",
       "      <td>99995</td>\n",
       "      <td>50</td>\n",
       "    </tr>\n",
       "    <tr>\n",
       "      <th>206205</th>\n",
       "      <td>99996</td>\n",
       "      <td>128</td>\n",
       "    </tr>\n",
       "    <tr>\n",
       "      <th>206206</th>\n",
       "      <td>99997</td>\n",
       "      <td>36</td>\n",
       "    </tr>\n",
       "    <tr>\n",
       "      <th>206207</th>\n",
       "      <td>99998</td>\n",
       "      <td>21</td>\n",
       "    </tr>\n",
       "    <tr>\n",
       "      <th>206208</th>\n",
       "      <td>99999</td>\n",
       "      <td>329</td>\n",
       "    </tr>\n",
       "  </tbody>\n",
       "</table>\n",
       "<p>206209 rows × 2 columns</p>\n",
       "</div>"
      ],
      "text/plain": [
       "       user_id  usage_frequency\n",
       "0            1               59\n",
       "1           10              143\n",
       "2          100               27\n",
       "3         1000              103\n",
       "4        10000             1092\n",
       "...        ...              ...\n",
       "206204   99995               50\n",
       "206205   99996              128\n",
       "206206   99997               36\n",
       "206207   99998               21\n",
       "206208   99999              329\n",
       "\n",
       "[206209 rows x 2 columns]"
      ]
     },
     "execution_count": 97,
     "metadata": {},
     "output_type": "execute_result"
    }
   ],
   "source": [
    "# Check output\n",
    "usage_frequency_per_user"
   ]
  },
  {
   "cell_type": "code",
   "execution_count": 99,
   "id": "64537c1e-b682-42f3-97c5-8b0a412c369f",
   "metadata": {},
   "outputs": [],
   "source": [
    "# Create a DataFrame that includes user_id and total expenditure\n",
    "order_user_data = df_c_o_p[['order_id', 'user_id', 'customer_profile']].drop_duplicates()"
   ]
  },
  {
   "cell_type": "code",
   "execution_count": 101,
   "id": "a4f31962-a734-4a39-a3fb-5d1629fe0bc0",
   "metadata": {},
   "outputs": [],
   "source": [
    "# Merge total expenditure with order_user_data\n",
    "order_data = pd.merge(total_expenditure_per_order, order_user_data, on='order_id')"
   ]
  },
  {
   "cell_type": "code",
   "execution_count": 103,
   "id": "700a8fc2-2685-4c2d-acf2-2b547d1b725f",
   "metadata": {},
   "outputs": [],
   "source": [
    "# Merge with usage frequency\n",
    "final_data = pd.merge(order_data, usage_frequency_per_user, on='user_id')"
   ]
  },
  {
   "cell_type": "code",
   "execution_count": 105,
   "id": "a308422a-ad52-4a1a-961d-67084114d7c9",
   "metadata": {},
   "outputs": [],
   "source": [
    "#Group by customer profile and aggregate\n",
    "\n",
    "aggregated_data = final_data.groupby('customer_profile').agg(\n",
    "    max_usage_frequency=('usage_frequency', 'max'),\n",
    "    mean_usage_frequency=('usage_frequency', 'mean'),\n",
    "    min_usage_frequency=('usage_frequency', 'min'),\n",
    "    max_expenditure=('total_expenditure', 'max'),\n",
    "    mean_expenditure=('total_expenditure', 'mean'),\n",
    "    min_expenditure=('total_expenditure', 'min')\n",
    ").reset_index()"
   ]
  },
  {
   "cell_type": "code",
   "execution_count": 107,
   "id": "5eb2b326-45ce-4b24-bde9-cce1a8fc22c1",
   "metadata": {},
   "outputs": [
    {
     "data": {
      "text/html": [
       "<div>\n",
       "<style scoped>\n",
       "    .dataframe tbody tr th:only-of-type {\n",
       "        vertical-align: middle;\n",
       "    }\n",
       "\n",
       "    .dataframe tbody tr th {\n",
       "        vertical-align: top;\n",
       "    }\n",
       "\n",
       "    .dataframe thead th {\n",
       "        text-align: right;\n",
       "    }\n",
       "</style>\n",
       "<table border=\"1\" class=\"dataframe\">\n",
       "  <thead>\n",
       "    <tr style=\"text-align: right;\">\n",
       "      <th></th>\n",
       "      <th>customer_profile</th>\n",
       "      <th>max_usage_frequency</th>\n",
       "      <th>mean_usage_frequency</th>\n",
       "      <th>min_usage_frequency</th>\n",
       "      <th>max_expenditure</th>\n",
       "      <th>mean_expenditure</th>\n",
       "      <th>min_expenditure</th>\n",
       "    </tr>\n",
       "  </thead>\n",
       "  <tbody>\n",
       "    <tr>\n",
       "      <th>0</th>\n",
       "      <td>Average Parent</td>\n",
       "      <td>2901</td>\n",
       "      <td>533.895169</td>\n",
       "      <td>3</td>\n",
       "      <td>15269.796875</td>\n",
       "      <td>144.618146</td>\n",
       "      <td>1.099609</td>\n",
       "    </tr>\n",
       "    <tr>\n",
       "      <th>1</th>\n",
       "      <td>Budget Shopper</td>\n",
       "      <td>2901</td>\n",
       "      <td>336.230991</td>\n",
       "      <td>3</td>\n",
       "      <td>15656.998047</td>\n",
       "      <td>100.588298</td>\n",
       "      <td>0.000000</td>\n",
       "    </tr>\n",
       "    <tr>\n",
       "      <th>2</th>\n",
       "      <td>Old Parent</td>\n",
       "      <td>3704</td>\n",
       "      <td>328.799632</td>\n",
       "      <td>2</td>\n",
       "      <td>15352.808594</td>\n",
       "      <td>98.606090</td>\n",
       "      <td>0.000000</td>\n",
       "    </tr>\n",
       "    <tr>\n",
       "      <th>3</th>\n",
       "      <td>Single Adult</td>\n",
       "      <td>3637</td>\n",
       "      <td>334.852596</td>\n",
       "      <td>1</td>\n",
       "      <td>15467.901367</td>\n",
       "      <td>97.377919</td>\n",
       "      <td>0.000000</td>\n",
       "    </tr>\n",
       "    <tr>\n",
       "      <th>4</th>\n",
       "      <td>Young Parent</td>\n",
       "      <td>2577</td>\n",
       "      <td>518.561660</td>\n",
       "      <td>6</td>\n",
       "      <td>15231.103516</td>\n",
       "      <td>143.090452</td>\n",
       "      <td>1.099609</td>\n",
       "    </tr>\n",
       "  </tbody>\n",
       "</table>\n",
       "</div>"
      ],
      "text/plain": [
       "  customer_profile  max_usage_frequency  mean_usage_frequency  \\\n",
       "0   Average Parent                 2901            533.895169   \n",
       "1   Budget Shopper                 2901            336.230991   \n",
       "2       Old Parent                 3704            328.799632   \n",
       "3     Single Adult                 3637            334.852596   \n",
       "4     Young Parent                 2577            518.561660   \n",
       "\n",
       "   min_usage_frequency  max_expenditure  mean_expenditure  min_expenditure  \n",
       "0                    3     15269.796875        144.618146         1.099609  \n",
       "1                    3     15656.998047        100.588298         0.000000  \n",
       "2                    2     15352.808594         98.606090         0.000000  \n",
       "3                    1     15467.901367         97.377919         0.000000  \n",
       "4                    6     15231.103516        143.090452         1.099609  "
      ]
     },
     "execution_count": 107,
     "metadata": {},
     "output_type": "execute_result"
    }
   ],
   "source": [
    "aggregated_data"
   ]
  },
  {
   "cell_type": "code",
   "execution_count": 109,
   "id": "9333adfb-2a0d-4c48-80e0-6c04371b6f3f",
   "metadata": {},
   "outputs": [],
   "source": [
    "aggregated_data.to_clipboard()"
   ]
  },
  {
   "cell_type": "markdown",
   "id": "a9f76eea-0d09-4d59-99ae-c8babf768fda",
   "metadata": {},
   "source": [
    "# 08 Customer Profile with Region and Department"
   ]
  },
  {
   "cell_type": "code",
   "execution_count": 140,
   "id": "a7745eec-af0e-4ecd-99ef-9fbb21b1745d",
   "metadata": {},
   "outputs": [],
   "source": [
    "# Group by customer profile, region, and department_id, and count occurrences\n",
    "grouped_data = df_c_o_p.groupby(['customer_profile', 'region', 'department_id']).size().reset_index(name='count')"
   ]
  },
  {
   "cell_type": "code",
   "execution_count": 142,
   "id": "b13acd27-ec89-4d0d-b454-7efad7a245c9",
   "metadata": {},
   "outputs": [
    {
     "data": {
      "text/plain": [
       "customer_profile  region  department_id  count \n",
       "Average Parent    MW      1              125213    1\n",
       "Single Adult      S       12             57768     1\n",
       "                          20             89326     1\n",
       "                          19             244359    1\n",
       "                          18             36345     1\n",
       "                                                  ..\n",
       "Old Parent        NE      6              16667     1\n",
       "                          5              8646      1\n",
       "                          4              607383    1\n",
       "                          3              76755     1\n",
       "Young Parent      W       21             2810      1\n",
       "Name: count, Length: 336, dtype: int64"
      ]
     },
     "execution_count": 142,
     "metadata": {},
     "output_type": "execute_result"
    }
   ],
   "source": [
    "grouped_data.value_counts(dropna = False)"
   ]
  },
  {
   "cell_type": "code",
   "execution_count": 149,
   "id": "3edf108d-208f-4e8e-8fba-49f3fbfceb12",
   "metadata": {},
   "outputs": [],
   "source": [
    "grouped_data.to_clipboard()"
   ]
  },
  {
   "cell_type": "markdown",
   "id": "6dcb82f5-fe45-4029-9af1-9a22fcbf97ee",
   "metadata": {},
   "source": [
    "## Bar Graph for Customer Profile by region"
   ]
  },
  {
   "cell_type": "code",
   "execution_count": 166,
   "id": "b2a767bd-9c7c-4404-9df6-d36b0b7d5d72",
   "metadata": {},
   "outputs": [],
   "source": [
    "# Creating Crosstab\n",
    "customer_region_cross = pd.crosstab(df_c_o_p['customer_profile'], df_c_o_p['region'], dropna = False)"
   ]
  },
  {
   "cell_type": "code",
   "execution_count": 227,
   "id": "cef5333c-cb45-4185-813e-e06a6c6f8eca",
   "metadata": {},
   "outputs": [
    {
     "data": {
      "text/plain": [
       "(array([0, 1, 2, 3]),\n",
       " [Text(0, 0, 'Average Parent'),\n",
       "  Text(1, 0, 'Old Parent'),\n",
       "  Text(2, 0, 'Single Adult'),\n",
       "  Text(3, 0, 'Young Parent')])"
      ]
     },
     "execution_count": 227,
     "metadata": {},
     "output_type": "execute_result"
    },
    {
     "data": {
      "image/png": "[encoded data removed]",
      "text/plain": [
       "<Figure size 640x480 with 1 Axes>"
      ]
     },
     "metadata": {},
     "output_type": "display_data"
    }
   ],
   "source": [
    "# Creating Bar \n",
    "bar2 = customer_region_cross.plot.bar()\n",
    "\n",
    "# Labelling axis\n",
    "plt.title('Customer Profile By region')\n",
    "plt.xlabel('Customer Profile')\n",
    "plt.ylabel('Frequency')\n",
    "plt.xticks(rotation=0)  "
   ]
  },
  {
   "cell_type": "markdown",
   "id": "05ea781d-1994-4d4a-b15a-5fedd4825083",
   "metadata": {},
   "source": [
    "## Bar Graph Profile by Department"
   ]
  },
  {
   "cell_type": "code",
   "execution_count": 175,
   "id": "0f68ab70-342d-4397-955e-01c6658d13e6",
   "metadata": {},
   "outputs": [],
   "source": [
    "# Creating Crosstab\n",
    "department_customer_cross = pd.crosstab(df_c_o_p['customer_profile'], df_c_o_p['department_id'], dropna = False)"
   ]
  },
  {
   "cell_type": "code",
   "execution_count": 223,
   "id": "a1e5216e-e91b-473f-9fe2-2995a8a57545",
   "metadata": {},
   "outputs": [
    {
     "data": {
      "text/plain": [
       "(array([0, 1, 2, 3]),\n",
       " [Text(0, 0, 'Average Parent'),\n",
       "  Text(1, 0, 'Old Parent'),\n",
       "  Text(2, 0, 'Single Adult'),\n",
       "  Text(3, 0, 'Young Parent')])"
      ]
     },
     "execution_count": 223,
     "metadata": {},
     "output_type": "execute_result"
    },
    {
     "data": {
      "image/png": "[encoded data removed]",
      "text/plain": [
       "<Figure size 1200x600 with 1 Axes>"
      ]
     },
     "metadata": {},
     "output_type": "display_data"
    }
   ],
   "source": [
    "# Create Bar Graph\n",
    "bar3 = department_customer_cross.plot.bar(figsize=(12, 6))\n",
    "\n",
    "# Fixing legend to left of graph\n",
    "plt.legend(title='Department ID', loc='upper left', bbox_to_anchor=(1, 1))\n",
    "\n",
    "# Labelling Axis\n",
    "plt.title('Customer Profile by Department ID')\n",
    "plt.xlabel('Customer Profile')\n",
    "plt.ylabel('Frequency')\n",
    "plt.xticks(rotation=0)  \n"
   ]
  },
  {
   "cell_type": "markdown",
   "id": "a281fcc9-0454-4b62-9fc3-dbed39947d19",
   "metadata": {},
   "source": [
    "## Export Bar Graphs"
   ]
  },
  {
   "cell_type": "code",
   "execution_count": 229,
   "id": "dc9bf99f-516f-421b-880e-eda01ec4e638",
   "metadata": {},
   "outputs": [],
   "source": [
    "bar2.figure.savefig(os.path.join(path2, 'bar_customer_profile_by_region.png'))"
   ]
  },
  {
   "cell_type": "code",
   "execution_count": 225,
   "id": "e368129d-c978-40cb-9b49-97ed3702c612",
   "metadata": {},
   "outputs": [],
   "source": [
    "bar3.figure.savefig(os.path.join(path2, 'bar_customer_profile_by_department_id.png'))"
   ]
  },
  {
   "cell_type": "markdown",
   "id": "0ef37014-0230-4cb3-a055-fcd31affdd4a",
   "metadata": {},
   "source": [
    "# 09 Export Final Dataset"
   ]
  },
  {
   "cell_type": "code",
   "execution_count": 217,
   "id": "0efb62a3-843e-46d7-829f-1477eca34eda",
   "metadata": {},
   "outputs": [],
   "source": [
    "df_c_o_p.to_pickle(os.path.join(path, 'orders_products_all'))"
   ]
  }
 ],
 "metadata": {
  "kernelspec": {
   "display_name": "Python [conda env:base] *",
   "language": "python",
   "name": "conda-base-py"
  },
  "language_info": {
   "codemirror_mode": {
    "name": "ipython",
    "version": 3
   },
   "file_extension": ".py",
   "mimetype": "text/x-python",
   "name": "python",
   "nbconvert_exporter": "python",
   "pygments_lexer": "ipython3",
   "version": "3.12.7"
  }
 },
 "nbformat": 4,
 "nbformat_minor": 5
}
