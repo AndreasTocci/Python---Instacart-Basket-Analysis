{
 "cells": [
  {
   "cell_type": "markdown",
   "id": "13b68046-9705-48fe-8bc7-a49e0820b414",
   "metadata": {},
   "source": [
    "# Exercise 4.7"
   ]
  },
  {
   "cell_type": "markdown",
   "id": "c75d8e40-810c-4598-aa3d-6fd0840aa7c1",
   "metadata": {},
   "source": [
    "# 01 importing Libraries"
   ]
  },
  {
   "cell_type": "code",
   "execution_count": 4,
   "id": "6862f83f-71d7-4b55-b606-130fbb718351",
   "metadata": {},
   "outputs": [],
   "source": [
    "# importing pandas, numpy and os\n",
    "import pandas as pd\n",
    "import numpy as np\n",
    "import os"
   ]
  },
  {
   "cell_type": "markdown",
   "id": "bd19242f-2e88-4749-a5f1-c8bb2d52a2a8",
   "metadata": {},
   "source": [
    "# 02 User-Defined Functions"
   ]
  },
  {
   "cell_type": "code",
   "execution_count": 6,
   "id": "88b05918-4135-4faa-8932-2b453aacd2a9",
   "metadata": {},
   "outputs": [],
   "source": [
    "# Def function Defines add_num as a function with two variables x and y\n",
    "def add_num(x,y):\n",
    "#add_num given definition as sum and the variables x and y to be added together\n",
    "    sum = x + y\n",
    "# I want the result of the sum to be printed(returned)\n",
    "    return sum "
   ]
  },
  {
   "cell_type": "code",
   "execution_count": 7,
   "id": "01f49a0d-2e55-42d7-85d1-5add10597b18",
   "metadata": {},
   "outputs": [
    {
     "data": {
      "text/plain": [
       "20"
      ]
     },
     "execution_count": 7,
     "metadata": {},
     "output_type": "execute_result"
    }
   ],
   "source": [
    "# Running Function\n",
    "add_num(9,11)"
   ]
  },
  {
   "cell_type": "markdown",
   "id": "58577a59-edd7-4acf-8d0b-d4f9915616b0",
   "metadata": {},
   "source": [
    "# 03 Importing Dataframe"
   ]
  },
  {
   "cell_type": "markdown",
   "id": "990e1669-2fce-4b41-9694-94b070217d1d",
   "metadata": {
    "jp-MarkdownHeadingCollapsed": true
   },
   "source": [
    "## creating path"
   ]
  },
  {
   "cell_type": "code",
   "execution_count": 10,
   "id": "7f52e38e-6945-4d56-a64e-9a992cda200b",
   "metadata": {},
   "outputs": [],
   "source": [
    "# path creation\n",
    "path = r'/Users/Andreas/Desktop/13-02-2025 Instacart Basket Analysis/02 Data'"
   ]
  },
  {
   "cell_type": "code",
   "execution_count": 11,
   "id": "57ad82eb-176d-48aa-8f7f-6290ef87dc2f",
   "metadata": {},
   "outputs": [
    {
     "data": {
      "text/plain": [
       "'/Users/Andreas/Desktop/13-02-2025 Instacart Basket Analysis/02 Data'"
      ]
     },
     "execution_count": 11,
     "metadata": {},
     "output_type": "execute_result"
    }
   ],
   "source": [
    "# testing path\n",
    "path"
   ]
  },
  {
   "cell_type": "markdown",
   "id": "cfb185bd-9609-4640-841b-a99a295dc46c",
   "metadata": {},
   "source": [
    "## importing orders_products_merged.pkl"
   ]
  },
  {
   "cell_type": "code",
   "execution_count": 13,
   "id": "fa57698c-388a-420e-927f-cb8fe562e51d",
   "metadata": {},
   "outputs": [],
   "source": [
    "# importing dataframe\n",
    "df_o_p_m = pd.read_pickle(os.path.join(path, 'Prepared Data', 'orders_products_merged.pkl'))"
   ]
  },
  {
   "cell_type": "code",
   "execution_count": 14,
   "id": "747ab0bb-8b27-4f55-8747-3393ef31117b",
   "metadata": {},
   "outputs": [
    {
     "data": {
      "text/html": [
       "<div>\n",
       "<style scoped>\n",
       "    .dataframe tbody tr th:only-of-type {\n",
       "        vertical-align: middle;\n",
       "    }\n",
       "\n",
       "    .dataframe tbody tr th {\n",
       "        vertical-align: top;\n",
       "    }\n",
       "\n",
       "    .dataframe thead th {\n",
       "        text-align: right;\n",
       "    }\n",
       "</style>\n",
       "<table border=\"1\" class=\"dataframe\">\n",
       "  <thead>\n",
       "    <tr style=\"text-align: right;\">\n",
       "      <th></th>\n",
       "      <th>product_id</th>\n",
       "      <th>product_name</th>\n",
       "      <th>aisle_id</th>\n",
       "      <th>department_id</th>\n",
       "      <th>prices</th>\n",
       "      <th>order_id</th>\n",
       "      <th>user_id</th>\n",
       "      <th>order_number</th>\n",
       "      <th>orders_day_of_week</th>\n",
       "      <th>order_hour_of_day</th>\n",
       "      <th>days_without_ordering</th>\n",
       "      <th>add_to_cart_order</th>\n",
       "      <th>reordered</th>\n",
       "      <th>_merge</th>\n",
       "      <th>price_label</th>\n",
       "      <th>busiest_day</th>\n",
       "      <th>busiest_days</th>\n",
       "    </tr>\n",
       "  </thead>\n",
       "  <tbody>\n",
       "    <tr>\n",
       "      <th>0</th>\n",
       "      <td>1</td>\n",
       "      <td>Chocolate Sandwich Cookies</td>\n",
       "      <td>61</td>\n",
       "      <td>19</td>\n",
       "      <td>5.800781</td>\n",
       "      <td>3139998</td>\n",
       "      <td>138</td>\n",
       "      <td>28</td>\n",
       "      <td>6</td>\n",
       "      <td>11</td>\n",
       "      <td>3.0</td>\n",
       "      <td>5</td>\n",
       "      <td>0</td>\n",
       "      <td>both</td>\n",
       "      <td>Mid-range product</td>\n",
       "      <td>Regularly busy</td>\n",
       "      <td>Regularly busy days</td>\n",
       "    </tr>\n",
       "    <tr>\n",
       "      <th>1</th>\n",
       "      <td>1</td>\n",
       "      <td>Chocolate Sandwich Cookies</td>\n",
       "      <td>61</td>\n",
       "      <td>19</td>\n",
       "      <td>5.800781</td>\n",
       "      <td>1977647</td>\n",
       "      <td>138</td>\n",
       "      <td>30</td>\n",
       "      <td>6</td>\n",
       "      <td>17</td>\n",
       "      <td>20.0</td>\n",
       "      <td>1</td>\n",
       "      <td>1</td>\n",
       "      <td>both</td>\n",
       "      <td>Mid-range product</td>\n",
       "      <td>Regularly busy</td>\n",
       "      <td>Regularly busy days</td>\n",
       "    </tr>\n",
       "    <tr>\n",
       "      <th>2</th>\n",
       "      <td>1</td>\n",
       "      <td>Chocolate Sandwich Cookies</td>\n",
       "      <td>61</td>\n",
       "      <td>19</td>\n",
       "      <td>5.800781</td>\n",
       "      <td>389851</td>\n",
       "      <td>709</td>\n",
       "      <td>2</td>\n",
       "      <td>0</td>\n",
       "      <td>21</td>\n",
       "      <td>6.0</td>\n",
       "      <td>20</td>\n",
       "      <td>0</td>\n",
       "      <td>both</td>\n",
       "      <td>Mid-range product</td>\n",
       "      <td>Busiest day</td>\n",
       "      <td>Busiest days</td>\n",
       "    </tr>\n",
       "    <tr>\n",
       "      <th>3</th>\n",
       "      <td>1</td>\n",
       "      <td>Chocolate Sandwich Cookies</td>\n",
       "      <td>61</td>\n",
       "      <td>19</td>\n",
       "      <td>5.800781</td>\n",
       "      <td>652770</td>\n",
       "      <td>764</td>\n",
       "      <td>1</td>\n",
       "      <td>3</td>\n",
       "      <td>13</td>\n",
       "      <td>0.0</td>\n",
       "      <td>10</td>\n",
       "      <td>0</td>\n",
       "      <td>both</td>\n",
       "      <td>Mid-range product</td>\n",
       "      <td>Regularly busy</td>\n",
       "      <td>Least busy days</td>\n",
       "    </tr>\n",
       "    <tr>\n",
       "      <th>4</th>\n",
       "      <td>1</td>\n",
       "      <td>Chocolate Sandwich Cookies</td>\n",
       "      <td>61</td>\n",
       "      <td>19</td>\n",
       "      <td>5.800781</td>\n",
       "      <td>1813452</td>\n",
       "      <td>764</td>\n",
       "      <td>3</td>\n",
       "      <td>4</td>\n",
       "      <td>17</td>\n",
       "      <td>9.0</td>\n",
       "      <td>11</td>\n",
       "      <td>1</td>\n",
       "      <td>both</td>\n",
       "      <td>Mid-range product</td>\n",
       "      <td>Least busy</td>\n",
       "      <td>Least busy days</td>\n",
       "    </tr>\n",
       "  </tbody>\n",
       "</table>\n",
       "</div>"
      ],
      "text/plain": [
       "   product_id                product_name  aisle_id  department_id    prices  \\\n",
       "0           1  Chocolate Sandwich Cookies        61             19  5.800781   \n",
       "1           1  Chocolate Sandwich Cookies        61             19  5.800781   \n",
       "2           1  Chocolate Sandwich Cookies        61             19  5.800781   \n",
       "3           1  Chocolate Sandwich Cookies        61             19  5.800781   \n",
       "4           1  Chocolate Sandwich Cookies        61             19  5.800781   \n",
       "\n",
       "   order_id  user_id  order_number  orders_day_of_week  order_hour_of_day  \\\n",
       "0   3139998      138            28                   6                 11   \n",
       "1   1977647      138            30                   6                 17   \n",
       "2    389851      709             2                   0                 21   \n",
       "3    652770      764             1                   3                 13   \n",
       "4   1813452      764             3                   4                 17   \n",
       "\n",
       "   days_without_ordering  add_to_cart_order  reordered _merge  \\\n",
       "0                    3.0                  5          0   both   \n",
       "1                   20.0                  1          1   both   \n",
       "2                    6.0                 20          0   both   \n",
       "3                    0.0                 10          0   both   \n",
       "4                    9.0                 11          1   both   \n",
       "\n",
       "         price_label     busiest_day         busiest_days  \n",
       "0  Mid-range product  Regularly busy  Regularly busy days  \n",
       "1  Mid-range product  Regularly busy  Regularly busy days  \n",
       "2  Mid-range product     Busiest day         Busiest days  \n",
       "3  Mid-range product  Regularly busy      Least busy days  \n",
       "4  Mid-range product      Least busy      Least busy days  "
      ]
     },
     "execution_count": 14,
     "metadata": {},
     "output_type": "execute_result"
    }
   ],
   "source": [
    "# testing dataframe\n",
    "df_o_p_m.head()"
   ]
  },
  {
   "cell_type": "code",
   "execution_count": 15,
   "id": "56ad8f39-2dc5-40f2-85f6-893194c5f466",
   "metadata": {},
   "outputs": [
    {
     "name": "stdout",
     "output_type": "stream",
     "text": [
      "<class 'pandas.core.frame.DataFrame'>\n",
      "RangeIndex: 32404859 entries, 0 to 32404858\n",
      "Data columns (total 17 columns):\n",
      " #   Column                 Dtype   \n",
      "---  ------                 -----   \n",
      " 0   product_id             int32   \n",
      " 1   product_name           object  \n",
      " 2   aisle_id               int16   \n",
      " 3   department_id          int16   \n",
      " 4   prices                 float16 \n",
      " 5   order_id               int32   \n",
      " 6   user_id                int32   \n",
      " 7   order_number           int16   \n",
      " 8   orders_day_of_week     int16   \n",
      " 9   order_hour_of_day      int16   \n",
      " 10  days_without_ordering  float16 \n",
      " 11  add_to_cart_order      int16   \n",
      " 12  reordered              int16   \n",
      " 13  _merge                 category\n",
      " 14  price_label            object  \n",
      " 15  busiest_day            object  \n",
      " 16  busiest_days           object  \n",
      "dtypes: category(1), float16(2), int16(7), int32(3), object(4)\n",
      "memory usage: 1.9+ GB\n"
     ]
    }
   ],
   "source": [
    "df_o_p_m.info()"
   ]
  },
  {
   "cell_type": "code",
   "execution_count": 16,
   "id": "5f95ceab-a0bf-4604-9950-f8c22553c8be",
   "metadata": {},
   "outputs": [],
   "source": [
    "#changing data types to accomadate lack of RAM\n",
    "df_o_p_m['product_id']= df_o_p_m['product_id'].astype('int32')\n",
    "df_o_p_m['aisle_id'] = df_o_p_m['aisle_id'].astype('int16')\n",
    "df_o_p_m['department_id'] = df_o_p_m['department_id'].astype('int16')\n",
    "df_o_p_m['prices'] = df_o_p_m['prices'].astype('float64')\n",
    "df_o_p_m['order_id'] = df_o_p_m['order_id'].astype('int32')\n",
    "df_o_p_m['user_id'] = df_o_p_m['user_id'].astype('int32')\n",
    "df_o_p_m['order_number'] = df_o_p_m['order_number'].astype('int16')\n",
    "df_o_p_m['orders_day_of_week'] = df_o_p_m['orders_day_of_week'].astype('int16')\n",
    "df_o_p_m['order_hour_of_day'] = df_o_p_m['order_hour_of_day'].astype('int16')\n",
    "df_o_p_m['days_without_ordering'] = df_o_p_m['days_without_ordering'].astype('float16')\n",
    "df_o_p_m['add_to_cart_order'] = df_o_p_m ['add_to_cart_order'].astype('int16')\n",
    "df_o_p_m['reordered'] = df_o_p_m['reordered'].astype('int16')"
   ]
  },
  {
   "cell_type": "code",
   "execution_count": 17,
   "id": "b3b7c4d3-d41e-46a5-90d3-442bc280f779",
   "metadata": {},
   "outputs": [
    {
     "name": "stdout",
     "output_type": "stream",
     "text": [
      "<class 'pandas.core.frame.DataFrame'>\n",
      "RangeIndex: 32404859 entries, 0 to 32404858\n",
      "Data columns (total 17 columns):\n",
      " #   Column                 Dtype   \n",
      "---  ------                 -----   \n",
      " 0   product_id             int32   \n",
      " 1   product_name           object  \n",
      " 2   aisle_id               int16   \n",
      " 3   department_id          int16   \n",
      " 4   prices                 float64 \n",
      " 5   order_id               int32   \n",
      " 6   user_id                int32   \n",
      " 7   order_number           int16   \n",
      " 8   orders_day_of_week     int16   \n",
      " 9   order_hour_of_day      int16   \n",
      " 10  days_without_ordering  float16 \n",
      " 11  add_to_cart_order      int16   \n",
      " 12  reordered              int16   \n",
      " 13  _merge                 category\n",
      " 14  price_label            object  \n",
      " 15  busiest_day            object  \n",
      " 16  busiest_days           object  \n",
      "dtypes: category(1), float16(1), float64(1), int16(7), int32(3), object(4)\n",
      "memory usage: 2.1+ GB\n"
     ]
    }
   ],
   "source": [
    "# shape of dataframe\n",
    "df_o_p_m.info()"
   ]
  },
  {
   "cell_type": "code",
   "execution_count": 18,
   "id": "6e18d2ad-8e98-4e1d-8717-1ffcc35f132f",
   "metadata": {},
   "outputs": [
    {
     "data": {
      "text/plain": [
       "(32404859, 17)"
      ]
     },
     "execution_count": 18,
     "metadata": {},
     "output_type": "execute_result"
    }
   ],
   "source": [
    "df_o_p_m.shape"
   ]
  },
  {
   "cell_type": "markdown",
   "id": "c0475316-c357-4357-9b37-f363e151043c",
   "metadata": {},
   "source": [
    "# 04 Creating Subset of Data for User-defined function practice"
   ]
  },
  {
   "cell_type": "code",
   "execution_count": 20,
   "id": "73417a7e-ea82-4177-b1ed-f6467d6a3470",
   "metadata": {},
   "outputs": [],
   "source": [
    "# Creating a Subset of the first 1,000,000 rows of df_o_p_m\n",
    "df = df_o_p_m[:1000000]\n",
    "# if : placed at the end it would give you 1,000,000 rows starting from bottom of table"
   ]
  },
  {
   "cell_type": "code",
   "execution_count": 21,
   "id": "7d095c41-27ff-4c05-b12d-739eb5269a34",
   "metadata": {},
   "outputs": [
    {
     "data": {
      "text/plain": [
       "(1000000, 17)"
      ]
     },
     "execution_count": 21,
     "metadata": {},
     "output_type": "execute_result"
    }
   ],
   "source": [
    "# Checking output\n",
    "df.shape"
   ]
  },
  {
   "cell_type": "markdown",
   "id": "3d37ab5a-9878-47fa-b4e1-727594780fd3",
   "metadata": {},
   "source": [
    "# 05 User Defined Function to Group Data"
   ]
  },
  {
   "cell_type": "code",
   "execution_count": 23,
   "id": "10492354-acc2-40cc-bbf9-dcf14449fa2f",
   "metadata": {},
   "outputs": [],
   "source": [
    "# Creating function price_label to analyze every row (row)\n",
    "def price_label(row):\n",
    "\n",
    "#if value is < or = to 5 return as Low-range product\n",
    "  if row['prices'] <= 5:\n",
    "    return 'Low-range product'\n",
    "#else if value is > than 5 and < or = 15 to return Mid-range product\n",
    "  elif (row['prices'] > 5) and (row['prices'] <= 15):\n",
    "    return 'Mid-range product'\n",
    "#else if value is > than 15 return High-range product\n",
    "  elif row['prices'] > 15:\n",
    "    return 'High-range product'\n",
    "# if no value found in row return Not Enough Data\n",
    "  else: return 'Not enough data'"
   ]
  },
  {
   "cell_type": "code",
   "execution_count": 24,
   "id": "792e1de2-717a-45c4-8a2f-c9638544a88e",
   "metadata": {},
   "outputs": [
    {
     "name": "stderr",
     "output_type": "stream",
     "text": [
      "/var/folders/bz/xnfhbvns50zc0x2wgk6fnbg80000gq/T/ipykernel_63815/3004831912.py:2: SettingWithCopyWarning: \n",
      "A value is trying to be set on a copy of a slice from a DataFrame.\n",
      "Try using .loc[row_indexer,col_indexer] = value instead\n",
      "\n",
      "See the caveats in the documentation: https://pandas.pydata.org/pandas-docs/stable/user_guide/indexing.html#returning-a-view-versus-a-copy\n",
      "  df['price_range'] = df.apply(price_label, axis = 1)\n"
     ]
    }
   ],
   "source": [
    "# using price_label in df on the ['price_range'] column starting at the first row (1)\n",
    "df['price_range'] = df.apply(price_label, axis = 1)"
   ]
  },
  {
   "cell_type": "code",
   "execution_count": 25,
   "id": "5fa11b1f-b7eb-4790-985f-348adf3ae086",
   "metadata": {},
   "outputs": [
    {
     "data": {
      "text/plain": [
       "price_range\n",
       "Mid-range product     652638\n",
       "Low-range product     338018\n",
       "High-range product      9344\n",
       "Name: count, dtype: int64"
      ]
     },
     "execution_count": 25,
     "metadata": {},
     "output_type": "execute_result"
    }
   ],
   "source": [
    "# checking output\n",
    "df['price_range'].value_counts(dropna = False) "
   ]
  },
  {
   "cell_type": "code",
   "execution_count": 26,
   "id": "744b1e52-0eed-49e9-8cbd-94c527d22e18",
   "metadata": {},
   "outputs": [
    {
     "data": {
      "text/plain": [
       "(1000000, 18)"
      ]
     },
     "execution_count": 26,
     "metadata": {},
     "output_type": "execute_result"
    }
   ],
   "source": [
    "# checking shape (should have 1 extra column = price_range)\n",
    "df.shape"
   ]
  },
  {
   "cell_type": "code",
   "execution_count": 27,
   "id": "d70377f1-deb0-4dac-9e59-dd1abb50e6ba",
   "metadata": {},
   "outputs": [
    {
     "data": {
      "text/plain": [
       "24.5"
      ]
     },
     "execution_count": 27,
     "metadata": {},
     "output_type": "execute_result"
    }
   ],
   "source": [
    "# checking the max price to make sure its above 15\n",
    "df['prices'].max()"
   ]
  },
  {
   "cell_type": "markdown",
   "id": "8d21a1e1-b896-4413-a1b7-a939cae7534f",
   "metadata": {},
   "source": [
    "# 06 User-Defined Function using loc()"
   ]
  },
  {
   "cell_type": "code",
   "execution_count": 29,
   "id": "62eaca93-accd-4547-ab21-d9abe84f3e37",
   "metadata": {},
   "outputs": [],
   "source": [
    "# creating price_range_loc column with its identifier high, medium or low-range product\n",
    "\n",
    "#perform loc() on df / the prices in df are being compared to > 15 IF that is true THEN = High-range product\n",
    "df_o_p_m.loc[df_o_p_m['prices'] > 15, 'price_label'] = 'High-range product'\n",
    "\n",
    "#perform loc() on df / the prices in df are being compared to <= 15 or < 5 IF that is true THEN = Mid-range product\n",
    "df_o_p_m.loc[(df_o_p_m['prices'] <= 15) & (df_o_p_m['prices'] > 5), 'price_label'] = 'Mid-range product' \n",
    "\n",
    "#perform loc() on df / the prices in df are being compared to <= 5 IF that is true THEN = Low-range product\n",
    "df_o_p_m.loc[df_o_p_m['prices'] <= 5, 'price_label'] = 'Low-range product'\n",
    "\n",
    "#all the results are place in the 'price_range_loc' column created"
   ]
  },
  {
   "cell_type": "code",
   "execution_count": 30,
   "id": "c7189bb2-a798-4b0a-915c-acea4f1da8b5",
   "metadata": {
    "scrolled": true
   },
   "outputs": [
    {
     "data": {
      "text/plain": [
       "price_label\n",
       "Mid-range product     21860860\n",
       "Low-range product     10126321\n",
       "High-range product      417678\n",
       "Name: count, dtype: int64"
      ]
     },
     "execution_count": 30,
     "metadata": {},
     "output_type": "execute_result"
    }
   ],
   "source": [
    "# output check\n",
    "df_o_p_m['price_label'].value_counts(dropna = False)"
   ]
  },
  {
   "cell_type": "markdown",
   "id": "d8cdfc3e-f166-45b3-9ce7-53fff477bc06",
   "metadata": {},
   "source": [
    "# 07 For Loops"
   ]
  },
  {
   "cell_type": "code",
   "execution_count": 32,
   "id": "9e29f717-dfd7-4b0a-a0fa-7817794723cf",
   "metadata": {
    "scrolled": true
   },
   "outputs": [
    {
     "data": {
      "text/plain": [
       "orders_day_of_week\n",
       "0    6204182\n",
       "1    5660230\n",
       "6    4496490\n",
       "2    4213830\n",
       "5    4205791\n",
       "3    3840534\n",
       "4    3783802\n",
       "Name: count, dtype: int64"
      ]
     },
     "execution_count": 32,
     "metadata": {},
     "output_type": "execute_result"
    }
   ],
   "source": [
    "# first I need to find which day is the busiest for orders\n",
    "df_o_p_m['orders_day_of_week'].value_counts(dropna=False)"
   ]
  },
  {
   "cell_type": "code",
   "execution_count": 33,
   "id": "37af5206-d4f8-4061-ab7f-f661a112082e",
   "metadata": {},
   "outputs": [],
   "source": [
    "# Creating an if-loop for asigning busiest, least, regularly busy \n",
    "\n",
    "#first step to create empty shell for the loop to return value to\n",
    "result = []\n",
    "\n",
    "#specifying for a value in df_o_p_m on column orders day of week IF value = 0 THEN return Busiest Day\n",
    "for value in df_o_p_m[\"orders_day_of_week\"]:\n",
    "  if value == 0:\n",
    "    result.append(\"Busiest day\")\n",
    "  \n",
    "#ELSE IF value in df_o_p_m = 4 THEN return least busy\n",
    "  elif value == 4:\n",
    "    result.append(\"Least busy\")\n",
    " \n",
    "#else IF non of the above then return regularly busy\n",
    "  else:\n",
    "    result.append(\"Regularly busy\")\n",
    "\n",
    "# This is much faster than user-defined function which searches all of a dataframe."
   ]
  },
  {
   "cell_type": "code",
   "execution_count": 34,
   "id": "656cfedd-173e-472c-befc-8d960a15d12f",
   "metadata": {},
   "outputs": [],
   "source": [
    "# now we need to add the list we have created (result) onto df_o_p_m\n",
    "\n",
    "#place the results into a column named busiest_day\n",
    "df_o_p_m['busiest_day'] = result"
   ]
  },
  {
   "cell_type": "code",
   "execution_count": 35,
   "id": "7aed7d92-77c7-4bac-9065-20ec91be4f3c",
   "metadata": {},
   "outputs": [
    {
     "data": {
      "text/html": [
       "<div>\n",
       "<style scoped>\n",
       "    .dataframe tbody tr th:only-of-type {\n",
       "        vertical-align: middle;\n",
       "    }\n",
       "\n",
       "    .dataframe tbody tr th {\n",
       "        vertical-align: top;\n",
       "    }\n",
       "\n",
       "    .dataframe thead th {\n",
       "        text-align: right;\n",
       "    }\n",
       "</style>\n",
       "<table border=\"1\" class=\"dataframe\">\n",
       "  <thead>\n",
       "    <tr style=\"text-align: right;\">\n",
       "      <th></th>\n",
       "      <th>product_id</th>\n",
       "      <th>product_name</th>\n",
       "      <th>aisle_id</th>\n",
       "      <th>department_id</th>\n",
       "      <th>prices</th>\n",
       "      <th>order_id</th>\n",
       "      <th>user_id</th>\n",
       "      <th>order_number</th>\n",
       "      <th>orders_day_of_week</th>\n",
       "      <th>order_hour_of_day</th>\n",
       "      <th>days_without_ordering</th>\n",
       "      <th>add_to_cart_order</th>\n",
       "      <th>reordered</th>\n",
       "      <th>_merge</th>\n",
       "      <th>price_label</th>\n",
       "      <th>busiest_day</th>\n",
       "      <th>busiest_days</th>\n",
       "    </tr>\n",
       "  </thead>\n",
       "  <tbody>\n",
       "    <tr>\n",
       "      <th>0</th>\n",
       "      <td>1</td>\n",
       "      <td>Chocolate Sandwich Cookies</td>\n",
       "      <td>61</td>\n",
       "      <td>19</td>\n",
       "      <td>5.800781</td>\n",
       "      <td>3139998</td>\n",
       "      <td>138</td>\n",
       "      <td>28</td>\n",
       "      <td>6</td>\n",
       "      <td>11</td>\n",
       "      <td>3.0</td>\n",
       "      <td>5</td>\n",
       "      <td>0</td>\n",
       "      <td>both</td>\n",
       "      <td>Mid-range product</td>\n",
       "      <td>Regularly busy</td>\n",
       "      <td>Regularly busy days</td>\n",
       "    </tr>\n",
       "    <tr>\n",
       "      <th>1</th>\n",
       "      <td>1</td>\n",
       "      <td>Chocolate Sandwich Cookies</td>\n",
       "      <td>61</td>\n",
       "      <td>19</td>\n",
       "      <td>5.800781</td>\n",
       "      <td>1977647</td>\n",
       "      <td>138</td>\n",
       "      <td>30</td>\n",
       "      <td>6</td>\n",
       "      <td>17</td>\n",
       "      <td>20.0</td>\n",
       "      <td>1</td>\n",
       "      <td>1</td>\n",
       "      <td>both</td>\n",
       "      <td>Mid-range product</td>\n",
       "      <td>Regularly busy</td>\n",
       "      <td>Regularly busy days</td>\n",
       "    </tr>\n",
       "    <tr>\n",
       "      <th>2</th>\n",
       "      <td>1</td>\n",
       "      <td>Chocolate Sandwich Cookies</td>\n",
       "      <td>61</td>\n",
       "      <td>19</td>\n",
       "      <td>5.800781</td>\n",
       "      <td>389851</td>\n",
       "      <td>709</td>\n",
       "      <td>2</td>\n",
       "      <td>0</td>\n",
       "      <td>21</td>\n",
       "      <td>6.0</td>\n",
       "      <td>20</td>\n",
       "      <td>0</td>\n",
       "      <td>both</td>\n",
       "      <td>Mid-range product</td>\n",
       "      <td>Busiest day</td>\n",
       "      <td>Busiest days</td>\n",
       "    </tr>\n",
       "    <tr>\n",
       "      <th>3</th>\n",
       "      <td>1</td>\n",
       "      <td>Chocolate Sandwich Cookies</td>\n",
       "      <td>61</td>\n",
       "      <td>19</td>\n",
       "      <td>5.800781</td>\n",
       "      <td>652770</td>\n",
       "      <td>764</td>\n",
       "      <td>1</td>\n",
       "      <td>3</td>\n",
       "      <td>13</td>\n",
       "      <td>0.0</td>\n",
       "      <td>10</td>\n",
       "      <td>0</td>\n",
       "      <td>both</td>\n",
       "      <td>Mid-range product</td>\n",
       "      <td>Regularly busy</td>\n",
       "      <td>Least busy days</td>\n",
       "    </tr>\n",
       "    <tr>\n",
       "      <th>4</th>\n",
       "      <td>1</td>\n",
       "      <td>Chocolate Sandwich Cookies</td>\n",
       "      <td>61</td>\n",
       "      <td>19</td>\n",
       "      <td>5.800781</td>\n",
       "      <td>1813452</td>\n",
       "      <td>764</td>\n",
       "      <td>3</td>\n",
       "      <td>4</td>\n",
       "      <td>17</td>\n",
       "      <td>9.0</td>\n",
       "      <td>11</td>\n",
       "      <td>1</td>\n",
       "      <td>both</td>\n",
       "      <td>Mid-range product</td>\n",
       "      <td>Least busy</td>\n",
       "      <td>Least busy days</td>\n",
       "    </tr>\n",
       "  </tbody>\n",
       "</table>\n",
       "</div>"
      ],
      "text/plain": [
       "   product_id                product_name  aisle_id  department_id    prices  \\\n",
       "0           1  Chocolate Sandwich Cookies        61             19  5.800781   \n",
       "1           1  Chocolate Sandwich Cookies        61             19  5.800781   \n",
       "2           1  Chocolate Sandwich Cookies        61             19  5.800781   \n",
       "3           1  Chocolate Sandwich Cookies        61             19  5.800781   \n",
       "4           1  Chocolate Sandwich Cookies        61             19  5.800781   \n",
       "\n",
       "   order_id  user_id  order_number  orders_day_of_week  order_hour_of_day  \\\n",
       "0   3139998      138            28                   6                 11   \n",
       "1   1977647      138            30                   6                 17   \n",
       "2    389851      709             2                   0                 21   \n",
       "3    652770      764             1                   3                 13   \n",
       "4   1813452      764             3                   4                 17   \n",
       "\n",
       "   days_without_ordering  add_to_cart_order  reordered _merge  \\\n",
       "0                    3.0                  5          0   both   \n",
       "1                   20.0                  1          1   both   \n",
       "2                    6.0                 20          0   both   \n",
       "3                    0.0                 10          0   both   \n",
       "4                    9.0                 11          1   both   \n",
       "\n",
       "         price_label     busiest_day         busiest_days  \n",
       "0  Mid-range product  Regularly busy  Regularly busy days  \n",
       "1  Mid-range product  Regularly busy  Regularly busy days  \n",
       "2  Mid-range product     Busiest day         Busiest days  \n",
       "3  Mid-range product  Regularly busy      Least busy days  \n",
       "4  Mid-range product      Least busy      Least busy days  "
      ]
     },
     "execution_count": 35,
     "metadata": {},
     "output_type": "execute_result"
    }
   ],
   "source": [
    "#checking output\n",
    "df_o_p_m.head()"
   ]
  },
  {
   "cell_type": "code",
   "execution_count": 36,
   "id": "2e33686b-840f-4bee-b205-0161aacf2b98",
   "metadata": {},
   "outputs": [
    {
     "data": {
      "text/plain": [
       "busiest_day\n",
       "Regularly busy    22416875\n",
       "Busiest day        6204182\n",
       "Least busy         3783802\n",
       "Name: count, dtype: int64"
      ]
     },
     "execution_count": 36,
     "metadata": {},
     "output_type": "execute_result"
    }
   ],
   "source": [
    "# checking output\n",
    "df_o_p_m['busiest_day'].value_counts(dropna=False)"
   ]
  },
  {
   "cell_type": "code",
   "execution_count": 37,
   "id": "5b1f53d4-c14c-4693-a2f3-4c2c5fb3ffea",
   "metadata": {},
   "outputs": [
    {
     "data": {
      "text/plain": [
       "32404859"
      ]
     },
     "execution_count": 37,
     "metadata": {},
     "output_type": "execute_result"
    }
   ],
   "source": [
    "# checking that all values are same\n",
    "df_o_p_m['busiest_day'].value_counts(dropna=False).sum()"
   ]
  },
  {
   "cell_type": "code",
   "execution_count": 38,
   "id": "0c00e320-fbcf-4ad4-b644-9ad8143c3db0",
   "metadata": {},
   "outputs": [
    {
     "data": {
      "text/plain": [
       "32404859"
      ]
     },
     "execution_count": 38,
     "metadata": {},
     "output_type": "execute_result"
    }
   ],
   "source": [
    "# checking all values same as above\n",
    "df_o_p_m['price_label'].value_counts(dropna = False).sum()"
   ]
  },
  {
   "cell_type": "markdown",
   "id": "795a5dd0-d4f0-4e28-89ef-a5f99828ad1e",
   "metadata": {},
   "source": [
    "# 08 TASK"
   ]
  },
  {
   "cell_type": "markdown",
   "id": "cf2b597e-9bbb-47a8-8f37-0bd33f3e71d8",
   "metadata": {},
   "source": [
    "## Question 2\n",
    "\n",
    "    suppose your clients have changed their minds about the labels you created in your “busiest_day” column. Now, they want “Busiest day” to become “Busiest days” (plural). This label should correspond with the two busiest days of the week as opposed to the single busiest day. At the same time, they’d also like to know the two slowest days. Create a new column for this using a suitable method."
   ]
  },
  {
   "cell_type": "code",
   "execution_count": 41,
   "id": "af4e9124-28f9-45ed-b2bd-5365fc32a44c",
   "metadata": {},
   "outputs": [],
   "source": [
    "result = []\n",
    "\n",
    "#specifying for a value in df_o_p_m on column orders day of week IF value = 0 or 1 THEN return Busiest Day\n",
    "for value in df_o_p_m[\"orders_day_of_week\"]:\n",
    "  if value == 0 or value == 1:\n",
    "    result.append(\"Busiest days\")\n",
    "  \n",
    "#ELSE IF value in df_o_p_m = 4 or 3 THEN return least busy\n",
    "  elif value == 4 or value == 3:\n",
    "    result.append(\"Least busy days\")\n",
    " \n",
    "#else IF non of the above then return regularly busy\n",
    "  else:\n",
    "    result.append(\"Regularly busy days\")"
   ]
  },
  {
   "cell_type": "code",
   "execution_count": 42,
   "id": "7132e00a-9be2-4e7e-bb1d-323bb626041c",
   "metadata": {},
   "outputs": [],
   "source": [
    "#placing the results of our loop into newly created busiest days column\n",
    "df_o_p_m['busiest_days'] = result"
   ]
  },
  {
   "cell_type": "code",
   "execution_count": 43,
   "id": "38354a59-bfe8-48c0-a061-e8c8e55213f7",
   "metadata": {},
   "outputs": [
    {
     "data": {
      "text/plain": [
       "busiest_days\n",
       "Regularly busy days    12916111\n",
       "Busiest days           11864412\n",
       "Least busy days         7624336\n",
       "Name: count, dtype: int64"
      ]
     },
     "execution_count": 43,
     "metadata": {},
     "output_type": "execute_result"
    }
   ],
   "source": [
    "#checking output\n",
    "df_o_p_m['busiest_days'].value_counts(dropna=False)"
   ]
  },
  {
   "cell_type": "code",
   "execution_count": 44,
   "id": "2df05ce7-a578-46f7-b061-33e797929775",
   "metadata": {},
   "outputs": [
    {
     "data": {
      "text/plain": [
       "32404859"
      ]
     },
     "execution_count": 44,
     "metadata": {},
     "output_type": "execute_result"
    }
   ],
   "source": [
    "#checking frequency\n",
    "df_o_p_m['busiest_days'].value_counts(dropna=False).sum()"
   ]
  },
  {
   "cell_type": "markdown",
   "id": "61523ba9-c783-4fb3-98a5-c3cdcdeb4b45",
   "metadata": {},
   "source": [
    "\n",
    "## Answer\n",
    "\n",
    "busiest_day\n",
    "\n",
    "    Regularly busy    22416875\n",
    "    Busiest day        6204182\n",
    "    Least busy         3783802\n",
    "    Name: count, dtype: int64\n",
    "\n",
    "\n",
    "busiest_days\n",
    "\n",
    "    Regularly busy days    12916111\n",
    "    Busiest days           11864412\n",
    "    Least busy days         7624336\n",
    "    Name: count, dtype: int64\n",
    "\n",
    "\n",
    "\n",
    "Having grouped more days together the number of variables classed as busiest and least busy days have increased whilst the number of variables classed as regularly busy has decreased"
   ]
  },
  {
   "cell_type": "markdown",
   "id": "c690aa6c-82de-4030-af3b-cefc10681857",
   "metadata": {},
   "source": [
    "## Question 4 \n",
    "\n",
    "    When too many users make Instacart orders at the same time, the app freezes. The senior technical officer at Instacart wants you to identify the busiest hours of the day. Rather than by hour, they want periods of time labeled “Most orders,” “Average orders,” and “Fewest orders.” Create a new column containing these labels called “busiest_period_of_day.”"
   ]
  },
  {
   "cell_type": "code",
   "execution_count": 47,
   "id": "04ba9b76-01ac-4f2a-b5d0-431871eb2b9a",
   "metadata": {},
   "outputs": [
    {
     "data": {
      "text/plain": [
       "order_hour_of_day\n",
       "10    2761760\n",
       "11    2736140\n",
       "14    2689136\n",
       "15    2662144\n",
       "13    2660954\n",
       "12    2618532\n",
       "16    2535202\n",
       "9     2454203\n",
       "17    2087654\n",
       "8     1718118\n",
       "18    1636502\n",
       "19    1258305\n",
       "20     976156\n",
       "7      891054\n",
       "21     795637\n",
       "22     634225\n",
       "23     402316\n",
       "6      290493\n",
       "0      218769\n",
       "1      115700\n",
       "5       87961\n",
       "2       69375\n",
       "4       53242\n",
       "3       51281\n",
       "Name: count, dtype: int64"
      ]
     },
     "execution_count": 47,
     "metadata": {},
     "output_type": "execute_result"
    }
   ],
   "source": [
    "#first we need to find the frequency of the order_hour_of_day\n",
    "df_o_p_m['order_hour_of_day'].value_counts(dropna = False)"
   ]
  },
  {
   "cell_type": "code",
   "execution_count": 48,
   "id": "2a9ffe57-ccfc-436f-919d-722a0e0c9cb1",
   "metadata": {},
   "outputs": [],
   "source": [
    "# now we want to create a result list to hold the variables we create through loop\n",
    "\n",
    "result = []\n",
    "\n",
    "#we want the loop to run in the order_hour_of_day column in df_o_p_m\n",
    "\n",
    "for value in df_o_p_m['order_hour_of_day']:\n",
    "\n",
    "#IF value is >= 9 or <= 16 THEN = Most Orders   \n",
    "    if value >= 9 and value <=16:\n",
    "        result.append('Most Orders')\n",
    "\n",
    "#ELSE IF a value is (7 or 8) or (17 to 23) THEN = average orders    \n",
    "    elif (value >=7 and value <=8) or (value >=17 and value <=23):\n",
    "        result.append('Average Orders')\n",
    "\n",
    "# If non of the above apply THEN = most orders    \n",
    "    else:\n",
    "        result.append('Fewest Orders')"
   ]
  },
  {
   "cell_type": "code",
   "execution_count": 49,
   "id": "7f2b0b29-d606-4424-9bc4-d596b18a98b7",
   "metadata": {},
   "outputs": [],
   "source": [
    "#creating a column for created list (result)\n",
    "df_o_p_m['busiest_period_of_day'] = result"
   ]
  },
  {
   "cell_type": "code",
   "execution_count": 50,
   "id": "3fe57a6b-820f-4bfb-bf44-9381a2474aa9",
   "metadata": {},
   "outputs": [
    {
     "data": {
      "text/plain": [
       "busiest_period_of_day\n",
       "Most Orders       21118071\n",
       "Average Orders    10399967\n",
       "Fewest Orders       886821\n",
       "Name: count, dtype: int64"
      ]
     },
     "execution_count": 50,
     "metadata": {},
     "output_type": "execute_result"
    }
   ],
   "source": [
    "df_o_p_m['busiest_period_of_day'].value_counts(dropna=False)"
   ]
  },
  {
   "cell_type": "markdown",
   "id": "7f5529f6-4439-4e7e-95d0-f107b0532eac",
   "metadata": {},
   "source": [
    "# Export"
   ]
  },
  {
   "cell_type": "code",
   "execution_count": 52,
   "id": "461dafcc-0bb7-47d7-b0af-2d678e60e389",
   "metadata": {},
   "outputs": [],
   "source": [
    "df_o_p_m.to_pickle(os.path.join(path, 'Prepared Data', 'orders_products_merged2.pkl'))"
   ]
  },
  {
   "cell_type": "code",
   "execution_count": null,
   "id": "bbf561a3-0a5c-4c4c-840a-b8ee165b6c3f",
   "metadata": {},
   "outputs": [],
   "source": []
  }
 ],
 "metadata": {
  "kernelspec": {
   "display_name": "Python [conda env:base] *",
   "language": "python",
   "name": "conda-base-py"
  },
  "language_info": {
   "codemirror_mode": {
    "name": "ipython",
    "version": 3
   },
   "file_extension": ".py",
   "mimetype": "text/x-python",
   "name": "python",
   "nbconvert_exporter": "python",
   "pygments_lexer": "ipython3",
   "version": "3.12.7"
  }
 },
 "nbformat": 4,
 "nbformat_minor": 5
}
